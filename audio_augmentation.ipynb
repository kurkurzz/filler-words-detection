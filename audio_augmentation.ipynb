{
 "cells": [
  {
   "cell_type": "code",
   "execution_count": 1,
   "id": "8536e05f",
   "metadata": {},
   "outputs": [],
   "source": [
    "import soundfile as sf\n",
    "import shutil\n",
    "import os\n",
    "\n",
    "from audiomentations import Compose, AddGaussianNoise, TimeStretch, PitchShift, Shift, TanhDistortion\n",
    "import numpy as np\n",
    "import librosa\n",
    "import pandas as pd\n",
    "from tqdm.notebook import tqdm_notebook\n",
    "from sklearn.model_selection import train_test_split"
   ]
  },
  {
   "cell_type": "markdown",
   "id": "4e7c4776",
   "metadata": {},
   "source": [
    "# Split Training and Test Set"
   ]
  },
  {
   "cell_type": "code",
   "execution_count": 18,
   "id": "cd151abe",
   "metadata": {},
   "outputs": [],
   "source": [
    "df = pd.read_csv('dataset_metadata/28k_cleaned.csv')"
   ]
  },
  {
   "cell_type": "code",
   "execution_count": 10,
   "id": "1daf9141",
   "metadata": {},
   "outputs": [],
   "source": [
    "X = df['filename']\n",
    "y = df['um_label'].to_numpy().reshape(-1,1).astype('float32')"
   ]
  },
  {
   "cell_type": "code",
   "execution_count": 5,
   "id": "da12c013",
   "metadata": {},
   "outputs": [
    {
     "name": "stdout",
     "output_type": "stream",
     "text": [
      "(array([0., 1.], dtype=float32), array([20590,  4892], dtype=int64))\n",
      "(array([0., 1.], dtype=float32), array([5171, 1200], dtype=int64))\n"
     ]
    }
   ],
   "source": [
    "X_train, X_test, y_train, y_test = train_test_split(X, y, test_size=0.2, random_state=14)\n",
    "\n",
    "print(np.unique(y_train, return_counts=True))\n",
    "print(np.unique(y_test, return_counts=True))"
   ]
  },
  {
   "cell_type": "code",
   "execution_count": 20,
   "id": "a971abf5",
   "metadata": {},
   "outputs": [],
   "source": [
    "# transfer clips into train and test folder\n",
    "\n",
    "def transfer_clips(filename, label, is_test):\n",
    "    path = 'model_dataset'\n",
    "    \n",
    "    if is_test:\n",
    "        if label == 1:\n",
    "            shutil.copyfile(f'{path}/clips/{filename}', f'{path}/test/true/{filename}')\n",
    "        else:\n",
    "            shutil.copyfile(f'{path}/clips/{filename}', f'{path}/test/false/{filename}')\n",
    "            \n",
    "    else:\n",
    "        if label == 1:\n",
    "            shutil.copyfile(f'{path}/clips/{filename}', f'{path}/train/true/{filename}')\n",
    "        else:\n",
    "            shutil.copyfile(f'{path}/clips/{filename}', f'{path}/train/false/{filename}')"
   ]
  },
  {
   "cell_type": "code",
   "execution_count": 23,
   "id": "bd92f55e",
   "metadata": {},
   "outputs": [],
   "source": [
    "for i, filename in enumerate(X_train):\n",
    "    transfer_clips(filename, y_train[i], False)"
   ]
  },
  {
   "cell_type": "code",
   "execution_count": 22,
   "id": "720d11a5",
   "metadata": {},
   "outputs": [],
   "source": [
    "for i, filename in enumerate(X_test):\n",
    "    transfer_clips(filename, y_test[i], True)"
   ]
  },
  {
   "cell_type": "markdown",
   "id": "1ea96ad0",
   "metadata": {},
   "source": [
    "# Augment Audio"
   ]
  },
  {
   "cell_type": "code",
   "execution_count": 7,
   "id": "aa31d0b2",
   "metadata": {},
   "outputs": [],
   "source": [
    "augment = Compose([\n",
    "    AddGaussianNoise(min_amplitude=0.001, max_amplitude=0.015, p=0.5),\n",
    "    TimeStretch(min_rate=0.95, max_rate=1.10, p=0.5),\n",
    "    PitchShift(min_semitones=-4, max_semitones=4, p=0.5),\n",
    "    Shift(min_fraction=-0.5, max_fraction=0.5, p=0.5),\n",
    "    TanhDistortion(p=0.5)\n",
    "])"
   ]
  },
  {
   "cell_type": "code",
   "execution_count": 8,
   "id": "ee6318ec",
   "metadata": {},
   "outputs": [],
   "source": [
    "def augment_audio(filename, n_output):\n",
    "    path = 'dataset_clips'\n",
    "    audio, sr = librosa.load(f'{path}/train/true/{filename}', sr=16000)\n",
    "    for i in range(n_output):\n",
    "        augmented_audio = augment(samples=audio, sample_rate=16000)\n",
    "        sf.write(f'{path}/train/augmented_true/{filename.replace(\".wav\",\"\")}_{i}.wav', augmented_audio, 16000)"
   ]
  },
  {
   "cell_type": "code",
   "execution_count": 9,
   "id": "cf87632b",
   "metadata": {},
   "outputs": [],
   "source": [
    "path = 'dataset_clips'\n",
    "for filename in os.listdir(f'{path}/train/true/'):\n",
    "    augment_audio(filename, 2)"
   ]
  }
 ],
 "metadata": {
  "kernelspec": {
   "display_name": "Python 3 (ipykernel)",
   "language": "python",
   "name": "python3"
  },
  "language_info": {
   "codemirror_mode": {
    "name": "ipython",
    "version": 3
   },
   "file_extension": ".py",
   "mimetype": "text/x-python",
   "name": "python",
   "nbconvert_exporter": "python",
   "pygments_lexer": "ipython3",
   "version": "3.8.12"
  }
 },
 "nbformat": 4,
 "nbformat_minor": 5
}
