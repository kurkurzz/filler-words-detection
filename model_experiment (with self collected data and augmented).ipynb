{
 "cells": [
  {
   "cell_type": "markdown",
   "id": "d935dccc",
   "metadata": {},
   "source": [
    "# Accuracy 80%"
   ]
  },
  {
   "cell_type": "code",
   "execution_count": 26,
   "id": "4243c792",
   "metadata": {},
   "outputs": [
    {
     "name": "stdout",
     "output_type": "stream",
     "text": [
      "tensorflow version: 2.7.0\n"
     ]
    }
   ],
   "source": [
    "import os\n",
    "import time\n",
    "import shutil\n",
    "import librosa\n",
    "import pandas as pd\n",
    "import numpy as np\n",
    "from tqdm.notebook import tqdm_notebook\n",
    "from sklearn.model_selection import train_test_split\n",
    "from sklearn.metrics import confusion_matrix, classification_report, accuracy_score, f1_score, roc_curve\\\n",
    ",auc\n",
    "import matplotlib.pyplot as plt\n",
    "import seaborn as sns\n",
    "\n",
    "\n",
    "import tensorflow as tf\n",
    "print(f'tensorflow version: {tf.__version__}')\n",
    "from tensorflow.keras.models import Sequential\n",
    "from tensorflow.keras.layers import Input, Dense, Dropout, Conv2D, MaxPooling2D, BatchNormalization, Flatten\n",
    "from tensorflow.keras.optimizers import Adam\n",
    "from sklearn import metrics\n",
    "from tensorflow.keras.callbacks import ModelCheckpoint, TensorBoard, EarlyStopping"
   ]
  },
  {
   "cell_type": "code",
   "execution_count": 27,
   "id": "38c9717e",
   "metadata": {},
   "outputs": [],
   "source": [
    "tqdm_notebook.pandas()"
   ]
  },
  {
   "cell_type": "markdown",
   "id": "2d85ad7c",
   "metadata": {},
   "source": [
    "## Import files and labels"
   ]
  },
  {
   "cell_type": "code",
   "execution_count": 52,
   "id": "6951efa4",
   "metadata": {},
   "outputs": [],
   "source": [
    "train_df = pd.DataFrame(columns=['full_path', 'filename', 'mfcc', 'is_train', 'is_augmented', 'um_label'])\n",
    "test_df = pd.DataFrame(columns=['full_path', 'filename', 'mfcc', 'is_train', 'is_augmented', 'um_label'])"
   ]
  },
  {
   "cell_type": "code",
   "execution_count": 53,
   "id": "53b48fbf",
   "metadata": {},
   "outputs": [],
   "source": [
    "path = 'model_dataset'\n",
    "for filename in os.listdir(f'{path}/train/true/'):\n",
    "    new_row = {'full_path': f'{path}/train/true/', 'filename': filename, 'is_train': True, 'is_augmented': False, 'um_label': 1}\n",
    "    train_df = train_df.append(new_row, ignore_index = True)\n",
    "\n",
    "for filename in os.listdir(f'{path}/train/self_collect_true/'):\n",
    "    new_row = {'full_path': f'{path}/train/self_collect_true/', 'filename': filename, 'is_train': True, 'is_augmented': True, 'um_label': 1}\n",
    "    train_df = train_df.append(new_row, ignore_index = True)\n",
    "    \n",
    "for filename in os.listdir(f'{path}/train/augmented_true/'):\n",
    "    new_row = {'full_path': f'{path}/train/augmented_true/', 'filename': filename, 'is_train': True, 'is_augmented': True, 'um_label': 1}\n",
    "    train_df = train_df.append(new_row, ignore_index = True)\n",
    "    \n",
    "for filename in os.listdir(f'{path}/train/false/'):\n",
    "    new_row = {'full_path': f'{path}/train/false/', 'filename': filename, 'is_train': True, 'is_augmented': False, 'um_label': 0}\n",
    "    train_df = train_df.append(new_row, ignore_index = True)"
   ]
  },
  {
   "cell_type": "code",
   "execution_count": 54,
   "id": "e9042344",
   "metadata": {},
   "outputs": [],
   "source": [
    "path = 'model_dataset'\n",
    "for filename in os.listdir(f'{path}/test/true/'):\n",
    "    new_row = {'full_path': f'{path}/test/true/', 'filename': filename, 'is_train': False, 'is_augmented': False, 'um_label': 1}\n",
    "    test_df = test_df.append(new_row, ignore_index = True)\n",
    "\n",
    "for filename in os.listdir(f'{path}/test/false/'):\n",
    "    new_row = {'full_path': f'{path}/test/false/', 'filename': filename, 'is_train': False, 'is_augmented': False, 'um_label': 0}\n",
    "    test_df = test_df.append(new_row, ignore_index = True)"
   ]
  },
  {
   "cell_type": "markdown",
   "id": "b0f35214",
   "metadata": {},
   "source": [
    "## Undersampling"
   ]
  },
  {
   "cell_type": "code",
   "execution_count": 55,
   "id": "d575e66c",
   "metadata": {},
   "outputs": [
    {
     "data": {
      "text/plain": [
       "um_label\n",
       "0           20590\n",
       "1           14818\n",
       "dtype: int64"
      ]
     },
     "execution_count": 55,
     "metadata": {},
     "output_type": "execute_result"
    }
   ],
   "source": [
    "train_df.value_counts(['um_label'])"
   ]
  },
  {
   "cell_type": "code",
   "execution_count": 56,
   "id": "eac4a87a",
   "metadata": {},
   "outputs": [
    {
     "data": {
      "text/plain": [
       "um_label\n",
       "0           5171\n",
       "1           1200\n",
       "dtype: int64"
      ]
     },
     "execution_count": 56,
     "metadata": {},
     "output_type": "execute_result"
    }
   ],
   "source": [
    "test_df.value_counts(['um_label'])"
   ]
  },
  {
   "cell_type": "code",
   "execution_count": 57,
   "id": "580a3936",
   "metadata": {},
   "outputs": [],
   "source": [
    "def undersampling_class(df, label_column, to_reduce_class, sample_number):\n",
    "    true_df = df[df[label_column]==1]\n",
    "    false_df = df[df[label_column]==0]\n",
    "    \n",
    "    if to_reduce_class == 0:\n",
    "        false_df = false_df.sample(n=sample_number)\n",
    "    else:\n",
    "        true_df = true_df.sample(n=sample_number)\n",
    "    \n",
    "    return pd.concat([true_df, false_df], axis=0)"
   ]
  },
  {
   "cell_type": "code",
   "execution_count": 58,
   "id": "c3a09733",
   "metadata": {},
   "outputs": [],
   "source": [
    "train_df = undersampling_class(train_df, 'um_label', 0,14_000)\n",
    "test_df = undersampling_class(test_df, 'um_label', 0, 1200)"
   ]
  },
  {
   "cell_type": "code",
   "execution_count": 59,
   "id": "9c3d4fcb",
   "metadata": {},
   "outputs": [
    {
     "data": {
      "text/plain": [
       "um_label\n",
       "1           14818\n",
       "0           14000\n",
       "dtype: int64"
      ]
     },
     "execution_count": 59,
     "metadata": {},
     "output_type": "execute_result"
    }
   ],
   "source": [
    "train_df.value_counts(['um_label'])"
   ]
  },
  {
   "cell_type": "code",
   "execution_count": 60,
   "id": "c9c35e71",
   "metadata": {},
   "outputs": [
    {
     "data": {
      "text/plain": [
       "um_label\n",
       "0           1200\n",
       "1           1200\n",
       "dtype: int64"
      ]
     },
     "execution_count": 60,
     "metadata": {},
     "output_type": "execute_result"
    }
   ],
   "source": [
    "test_df.value_counts(['um_label'])"
   ]
  },
  {
   "cell_type": "markdown",
   "id": "0d9d6110",
   "metadata": {},
   "source": [
    "## Convert to MFCC"
   ]
  },
  {
   "cell_type": "code",
   "execution_count": 61,
   "id": "060bcdef",
   "metadata": {},
   "outputs": [],
   "source": [
    "def extract_mfcc(df):\n",
    "    try:\n",
    "        folder_name = 'clips'\n",
    "        audio, sr = librosa.load(f'{df[\"full_path\"]}{df[\"filename\"]}', sr=16000)\n",
    "        mfcc = librosa.feature.mfcc(audio, sr, n_mfcc=13)\n",
    "        return mfcc\n",
    "    except:\n",
    "        return None"
   ]
  },
  {
   "cell_type": "code",
   "execution_count": 62,
   "id": "1bef26db",
   "metadata": {},
   "outputs": [
    {
     "data": {
      "application/vnd.jupyter.widget-view+json": {
       "model_id": "96f20817d48a402db59872cb3c48d039",
       "version_major": 2,
       "version_minor": 0
      },
      "text/plain": [
       "  0%|          | 0/28818 [00:00<?, ?it/s]"
      ]
     },
     "metadata": {},
     "output_type": "display_data"
    },
    {
     "data": {
      "application/vnd.jupyter.widget-view+json": {
       "model_id": "3e889d45e54a401eb2b5bafcbab71d50",
       "version_major": 2,
       "version_minor": 0
      },
      "text/plain": [
       "  0%|          | 0/2400 [00:00<?, ?it/s]"
      ]
     },
     "metadata": {},
     "output_type": "display_data"
    },
    {
     "name": "stdout",
     "output_type": "stream",
     "text": [
      "CPU times: total: 5min 7s\n",
      "Wall time: 3min 56s\n"
     ]
    }
   ],
   "source": [
    "%%time\n",
    "train_df['mfcc'] = train_df.progress_apply(extract_mfcc, axis=1)\n",
    "test_df['mfcc'] = test_df.progress_apply(extract_mfcc, axis=1)"
   ]
  },
  {
   "cell_type": "code",
   "execution_count": 63,
   "id": "98a0da87",
   "metadata": {},
   "outputs": [],
   "source": [
    "X_train = np.stack(train_df['mfcc'].to_numpy())\n",
    "y_train = train_df['um_label'].to_numpy().reshape(-1,1).astype('float32')\n",
    "\n",
    "X_test = np.stack(test_df['mfcc'].to_numpy())\n",
    "y_test = test_df['um_label'].to_numpy().reshape(-1,1).astype('float32')"
   ]
  },
  {
   "cell_type": "code",
   "execution_count": 64,
   "id": "90fab8d8",
   "metadata": {},
   "outputs": [
    {
     "data": {
      "text/plain": [
       "(13, 94, 1)"
      ]
     },
     "execution_count": 64,
     "metadata": {},
     "output_type": "execute_result"
    }
   ],
   "source": [
    "input_shape = (X_train.shape[1], X_train.shape[2], 1)\n",
    "input_shape"
   ]
  },
  {
   "cell_type": "markdown",
   "id": "24932daa",
   "metadata": {},
   "source": [
    "# Train model"
   ]
  },
  {
   "cell_type": "code",
   "execution_count": 65,
   "id": "cca48330",
   "metadata": {},
   "outputs": [],
   "source": [
    "def create_cnn_model(input_shape):\n",
    "    model = Sequential()\n",
    "\n",
    "    model.add(Conv2D(32, (3,3), activation='relu', input_shape=input_shape))\n",
    "    model.add(MaxPooling2D((3,3), strides=(2, 2), padding='same'))\n",
    "    model.add(BatchNormalization())\n",
    "\n",
    "    model.add(Conv2D(64, (3,3), activation='relu', input_shape=input_shape))\n",
    "    model.add(MaxPooling2D((3,3), strides=(2, 2), padding='same'))\n",
    "    model.add(BatchNormalization())\n",
    "\n",
    "    model.add(Conv2D(128, (2,2), activation='relu', input_shape=input_shape))\n",
    "    model.add(MaxPooling2D((2,2), strides=(2, 2), padding='same'))\n",
    "    model.add(BatchNormalization())\n",
    "\n",
    "    model.add(Flatten())\n",
    "    model.add(Dense(64, activation='relu'))\n",
    "    model.add(Dropout(0.5))\n",
    "    \n",
    "    model.add(Dense(64, activation='relu'))\n",
    "    model.add(Dropout(0.5))\n",
    "\n",
    "    model.add(Dense(1, activation='sigmoid'))\n",
    "    \n",
    "    return model"
   ]
  },
  {
   "cell_type": "code",
   "execution_count": 66,
   "id": "744b11e6",
   "metadata": {},
   "outputs": [],
   "source": [
    "model = create_cnn_model(input_shape)"
   ]
  },
  {
   "cell_type": "code",
   "execution_count": 67,
   "id": "720342dd",
   "metadata": {},
   "outputs": [],
   "source": [
    "adam_optimizer = Adam(learning_rate=0.00005)\n",
    "\n",
    "model.compile(loss='binary_crossentropy', metrics=['accuracy'], optimizer=adam_optimizer)"
   ]
  },
  {
   "cell_type": "code",
   "execution_count": 68,
   "id": "9e12e85f",
   "metadata": {},
   "outputs": [
    {
     "name": "stdout",
     "output_type": "stream",
     "text": [
      "Epoch 1/100\n",
      "449/451 [============================>.] - ETA: 0s - loss: 0.6557 - accuracy: 0.6452\n",
      "Epoch 00001: val_loss improved from inf to 0.70298, saving model to models\\v8 (all).hdf5\n",
      "451/451 [==============================] - 16s 34ms/step - loss: 0.6552 - accuracy: 0.6455 - val_loss: 0.7030 - val_accuracy: 0.5487\n",
      "Epoch 2/100\n",
      "449/451 [============================>.] - ETA: 0s - loss: 0.5459 - accuracy: 0.7092\n",
      "Epoch 00002: val_loss improved from 0.70298 to 0.68768, saving model to models\\v8 (all).hdf5\n",
      "451/451 [==============================] - 15s 33ms/step - loss: 0.5457 - accuracy: 0.7092 - val_loss: 0.6877 - val_accuracy: 0.5929\n",
      "Epoch 3/100\n",
      "449/451 [============================>.] - ETA: 0s - loss: 0.4985 - accuracy: 0.7518\n",
      "Epoch 00003: val_loss improved from 0.68768 to 0.68328, saving model to models\\v8 (all).hdf5\n",
      "451/451 [==============================] - 15s 34ms/step - loss: 0.4984 - accuracy: 0.7519 - val_loss: 0.6833 - val_accuracy: 0.6075\n",
      "Epoch 4/100\n",
      "449/451 [============================>.] - ETA: 0s - loss: 0.4576 - accuracy: 0.7795\n",
      "Epoch 00004: val_loss improved from 0.68328 to 0.63612, saving model to models\\v8 (all).hdf5\n",
      "451/451 [==============================] - 15s 33ms/step - loss: 0.4577 - accuracy: 0.7795 - val_loss: 0.6361 - val_accuracy: 0.6458\n",
      "Epoch 5/100\n",
      "449/451 [============================>.] - ETA: 0s - loss: 0.4267 - accuracy: 0.8023\n",
      "Epoch 00005: val_loss improved from 0.63612 to 0.58195, saving model to models\\v8 (all).hdf5\n",
      "451/451 [==============================] - 15s 33ms/step - loss: 0.4266 - accuracy: 0.8022 - val_loss: 0.5820 - val_accuracy: 0.6833\n",
      "Epoch 6/100\n",
      "449/451 [============================>.] - ETA: 0s - loss: 0.3989 - accuracy: 0.8204\n",
      "Epoch 00006: val_loss did not improve from 0.58195\n",
      "451/451 [==============================] - 15s 33ms/step - loss: 0.3985 - accuracy: 0.8206 - val_loss: 0.5930 - val_accuracy: 0.6850\n",
      "Epoch 7/100\n",
      "449/451 [============================>.] - ETA: 0s - loss: 0.3808 - accuracy: 0.8304\n",
      "Epoch 00007: val_loss improved from 0.58195 to 0.54839, saving model to models\\v8 (all).hdf5\n",
      "451/451 [==============================] - 15s 33ms/step - loss: 0.3806 - accuracy: 0.8305 - val_loss: 0.5484 - val_accuracy: 0.7192\n",
      "Epoch 8/100\n",
      "449/451 [============================>.] - ETA: 0s - loss: 0.3582 - accuracy: 0.8443\n",
      "Epoch 00008: val_loss improved from 0.54839 to 0.53884, saving model to models\\v8 (all).hdf5\n",
      "451/451 [==============================] - 15s 33ms/step - loss: 0.3583 - accuracy: 0.8444 - val_loss: 0.5388 - val_accuracy: 0.7258\n",
      "Epoch 9/100\n",
      "449/451 [============================>.] - ETA: 0s - loss: 0.3449 - accuracy: 0.8514\n",
      "Epoch 00009: val_loss improved from 0.53884 to 0.50909, saving model to models\\v8 (all).hdf5\n",
      "451/451 [==============================] - 15s 33ms/step - loss: 0.3450 - accuracy: 0.8515 - val_loss: 0.5091 - val_accuracy: 0.7429\n",
      "Epoch 10/100\n",
      "449/451 [============================>.] - ETA: 0s - loss: 0.3302 - accuracy: 0.8599\n",
      "Epoch 00010: val_loss did not improve from 0.50909\n",
      "451/451 [==============================] - 15s 33ms/step - loss: 0.3303 - accuracy: 0.8598 - val_loss: 0.5099 - val_accuracy: 0.7421\n",
      "Epoch 11/100\n",
      "449/451 [============================>.] - ETA: 0s - loss: 0.3205 - accuracy: 0.8641\n",
      "Epoch 00011: val_loss did not improve from 0.50909\n",
      "451/451 [==============================] - 15s 33ms/step - loss: 0.3205 - accuracy: 0.8642 - val_loss: 0.5478 - val_accuracy: 0.7233\n",
      "Epoch 12/100\n",
      "449/451 [============================>.] - ETA: 0s - loss: 0.3058 - accuracy: 0.8713\n",
      "Epoch 00012: val_loss did not improve from 0.50909\n",
      "451/451 [==============================] - 15s 34ms/step - loss: 0.3061 - accuracy: 0.8712 - val_loss: 0.5252 - val_accuracy: 0.7383\n",
      "Epoch 13/100\n",
      "450/451 [============================>.] - ETA: 0s - loss: 0.3009 - accuracy: 0.8740\n",
      "Epoch 00013: val_loss improved from 0.50909 to 0.45470, saving model to models\\v8 (all).hdf5\n",
      "451/451 [==============================] - 16s 35ms/step - loss: 0.3008 - accuracy: 0.8741 - val_loss: 0.4547 - val_accuracy: 0.7921\n",
      "Epoch 14/100\n",
      "449/451 [============================>.] - ETA: 0s - loss: 0.2906 - accuracy: 0.8791\n",
      "Epoch 00014: val_loss did not improve from 0.45470\n",
      "451/451 [==============================] - 16s 35ms/step - loss: 0.2906 - accuracy: 0.8791 - val_loss: 0.5235 - val_accuracy: 0.7442\n",
      "Epoch 15/100\n",
      "449/451 [============================>.] - ETA: 0s - loss: 0.2822 - accuracy: 0.8843\n",
      "Epoch 00015: val_loss did not improve from 0.45470\n",
      "451/451 [==============================] - 16s 36ms/step - loss: 0.2823 - accuracy: 0.8842 - val_loss: 0.4661 - val_accuracy: 0.7837\n",
      "Epoch 16/100\n",
      "449/451 [============================>.] - ETA: 0s - loss: 0.2743 - accuracy: 0.8870\n",
      "Epoch 00016: val_loss did not improve from 0.45470\n",
      "451/451 [==============================] - 16s 35ms/step - loss: 0.2741 - accuracy: 0.8872 - val_loss: 0.5060 - val_accuracy: 0.7571\n",
      "Epoch 17/100\n",
      "449/451 [============================>.] - ETA: 0s - loss: 0.2675 - accuracy: 0.8902\n",
      "Epoch 00017: val_loss improved from 0.45470 to 0.43578, saving model to models\\v8 (all).hdf5\n",
      "451/451 [==============================] - 15s 34ms/step - loss: 0.2677 - accuracy: 0.8902 - val_loss: 0.4358 - val_accuracy: 0.8008\n",
      "Epoch 18/100\n",
      "449/451 [============================>.] - ETA: 0s - loss: 0.2600 - accuracy: 0.8932 ETA: 0s - loss: 0.2602 - accuracy\n",
      "Epoch 00018: val_loss did not improve from 0.43578\n",
      "451/451 [==============================] - 16s 35ms/step - loss: 0.2602 - accuracy: 0.8932 - val_loss: 0.4982 - val_accuracy: 0.7708\n",
      "Epoch 19/100\n",
      "449/451 [============================>.] - ETA: 0s - loss: 0.2555 - accuracy: 0.8972\n",
      "Epoch 00019: val_loss did not improve from 0.43578\n",
      "451/451 [==============================] - 16s 35ms/step - loss: 0.2558 - accuracy: 0.8971 - val_loss: 0.4609 - val_accuracy: 0.7933\n",
      "Epoch 20/100\n",
      "450/451 [============================>.] - ETA: 0s - loss: 0.2498 - accuracy: 0.8995\n",
      "Epoch 00020: val_loss did not improve from 0.43578\n",
      "451/451 [==============================] - 16s 35ms/step - loss: 0.2498 - accuracy: 0.8995 - val_loss: 0.4746 - val_accuracy: 0.7850\n",
      "Epoch 21/100\n",
      "449/451 [============================>.] - ETA: 0s - loss: 0.2430 - accuracy: 0.9016\n",
      "Epoch 00021: val_loss did not improve from 0.43578\n",
      "451/451 [==============================] - 15s 34ms/step - loss: 0.2430 - accuracy: 0.9016 - val_loss: 0.4523 - val_accuracy: 0.7958\n",
      "Epoch 22/100\n",
      "449/451 [============================>.] - ETA: 0s - loss: 0.2383 - accuracy: 0.9025\n",
      "Epoch 00022: val_loss did not improve from 0.43578\n",
      "451/451 [==============================] - 16s 34ms/step - loss: 0.2381 - accuracy: 0.9025 - val_loss: 0.4693 - val_accuracy: 0.7862\n",
      "Epoch 23/100\n",
      "449/451 [============================>.] - ETA: 0s - loss: 0.2338 - accuracy: 0.9052\n",
      "Epoch 00023: val_loss did not improve from 0.43578\n",
      "451/451 [==============================] - 15s 34ms/step - loss: 0.2337 - accuracy: 0.9052 - val_loss: 0.4858 - val_accuracy: 0.7921\n",
      "Epoch 24/100\n",
      "449/451 [============================>.] - ETA: 0s - loss: 0.2266 - accuracy: 0.9100\n",
      "Epoch 00024: val_loss did not improve from 0.43578\n",
      "451/451 [==============================] - 16s 35ms/step - loss: 0.2265 - accuracy: 0.9101 - val_loss: 0.4780 - val_accuracy: 0.7854\n",
      "Epoch 25/100\n",
      "450/451 [============================>.] - ETA: 0s - loss: 0.2199 - accuracy: 0.9119\n",
      "Epoch 00025: val_loss did not improve from 0.43578\n",
      "451/451 [==============================] - 16s 35ms/step - loss: 0.2198 - accuracy: 0.9119 - val_loss: 0.4630 - val_accuracy: 0.7929\n",
      "Epoch 26/100\n",
      "450/451 [============================>.] - ETA: 0s - loss: 0.2187 - accuracy: 0.9109\n",
      "Epoch 00026: val_loss did not improve from 0.43578\n",
      "451/451 [==============================] - 15s 34ms/step - loss: 0.2187 - accuracy: 0.9109 - val_loss: 0.4507 - val_accuracy: 0.8087\n",
      "Epoch 27/100\n",
      "449/451 [============================>.] - ETA: 0s - loss: 0.2134 - accuracy: 0.9141\n",
      "Epoch 00027: val_loss did not improve from 0.43578\n",
      "451/451 [==============================] - 16s 35ms/step - loss: 0.2133 - accuracy: 0.9141 - val_loss: 0.4775 - val_accuracy: 0.8012\n",
      "Epoch 28/100\n",
      "451/451 [==============================] - ETA: 0s - loss: 0.2051 - accuracy: 0.9171\n",
      "Epoch 00028: val_loss did not improve from 0.43578\n",
      "451/451 [==============================] - 16s 36ms/step - loss: 0.2051 - accuracy: 0.9171 - val_loss: 0.4536 - val_accuracy: 0.8054\n"
     ]
    },
    {
     "name": "stdout",
     "output_type": "stream",
     "text": [
      "Epoch 29/100\n",
      "450/451 [============================>.] - ETA: 0s - loss: 0.1997 - accuracy: 0.9197\n",
      "Epoch 00029: val_loss did not improve from 0.43578\n",
      "451/451 [==============================] - 16s 36ms/step - loss: 0.1997 - accuracy: 0.9196 - val_loss: 0.4575 - val_accuracy: 0.8079\n",
      "Epoch 30/100\n",
      "449/451 [============================>.] - ETA: 0s - loss: 0.1993 - accuracy: 0.9199\n",
      "Epoch 00030: val_loss did not improve from 0.43578\n",
      "451/451 [==============================] - 15s 33ms/step - loss: 0.1992 - accuracy: 0.9200 - val_loss: 0.4861 - val_accuracy: 0.8042\n",
      "Epoch 31/100\n",
      "450/451 [============================>.] - ETA: 0s - loss: 0.1920 - accuracy: 0.9232\n",
      "Epoch 00031: val_loss did not improve from 0.43578\n",
      "451/451 [==============================] - 16s 35ms/step - loss: 0.1920 - accuracy: 0.9232 - val_loss: 0.4691 - val_accuracy: 0.8037\n",
      "Epoch 32/100\n",
      "449/451 [============================>.] - ETA: 0s - loss: 0.1839 - accuracy: 0.9273\n",
      "Epoch 00032: val_loss did not improve from 0.43578\n",
      "451/451 [==============================] - 15s 34ms/step - loss: 0.1839 - accuracy: 0.9273 - val_loss: 0.4542 - val_accuracy: 0.8213\n",
      "Epoch 00032: early stopping\n",
      "CPU times: total: 1h 1min 50s\n",
      "Wall time: 8min 14s\n"
     ]
    }
   ],
   "source": [
    "%%time\n",
    "num_epochs = 100\n",
    "num_batch_size = 64\n",
    "\n",
    "model_checkpoint = ModelCheckpoint(filepath='models/v8 (all).hdf5', \n",
    "                               verbose=1, save_best_only=True)\n",
    "\n",
    "early_stop = EarlyStopping(monitor='val_loss', mode='min', verbose=1, patience=15)\n",
    "\n",
    "history = model.fit(X_train, \n",
    "          y_train, \n",
    "          batch_size=num_batch_size, \n",
    "          epochs=num_epochs, \n",
    "          validation_data=(X_test, y_test), \n",
    "          callbacks=[model_checkpoint, early_stop], \n",
    "          verbose=1)"
   ]
  },
  {
   "cell_type": "markdown",
   "id": "7f29044a",
   "metadata": {},
   "source": [
    "# Test Model"
   ]
  },
  {
   "cell_type": "code",
   "execution_count": 69,
   "id": "a4c8b540",
   "metadata": {},
   "outputs": [],
   "source": [
    "model = create_cnn_model(input_shape)\n",
    "\n",
    "model.load_weights('models/v8 (all).hdf5')"
   ]
  },
  {
   "cell_type": "code",
   "execution_count": 70,
   "id": "3030239d",
   "metadata": {},
   "outputs": [],
   "source": [
    "def test_thresholds(X, y):\n",
    "    fpr, tpr, thresholds = roc_curve(y, model.predict(X))\n",
    "    plt.figure()\n",
    "    lw = 2\n",
    "    plt.plot(\n",
    "        fpr,\n",
    "        tpr,\n",
    "        color=\"darkorange\",\n",
    "        lw=lw,\n",
    "        label=\"ROC curve (area = %0.2f)\" % auc(fpr, tpr),\n",
    "    )\n",
    "    plt.plot([0, 1], [0, 1], color=\"navy\", lw=lw, linestyle=\"--\")\n",
    "    plt.xlim([0.0, 1.0])\n",
    "    plt.ylim([0.0, 1.05])\n",
    "    plt.xlabel(\"False Positive Rate\")\n",
    "    plt.ylabel(\"True Positive Rate\")\n",
    "    plt.title(\"Receiver operating characteristic example\")\n",
    "    plt.legend(loc=\"lower right\")\n",
    "    plt.show()\n",
    "    \n",
    "    possible_thresholds = np.linspace(0, 1, num=20)\n",
    "    df_metrics = pd.DataFrame()\n",
    "    for threshold in possible_thresholds:\n",
    "        y_pred = (model.predict(X) > threshold).astype(\"int32\")\n",
    "        df_metrics = df_metrics.append({\n",
    "            'threshold': threshold,\n",
    "            'accuracy': accuracy_score(y, y_pred),\n",
    "            'f1_score': f1_score(y, y_pred)\n",
    "        }, ignore_index=True)\n",
    "        \n",
    "    sns.lineplot(data=df_metrics.set_index('threshold'), palette=\"tab10\", linewidth=2.5)\n",
    "    \n",
    "    return df_metrics"
   ]
  },
  {
   "cell_type": "code",
   "execution_count": 42,
   "id": "44ad7e5e",
   "metadata": {},
   "outputs": [
    {
     "name": "stdout",
     "output_type": "stream",
     "text": [
      "Accuracy: 0.7503703703703704\n",
      "f1 score: 0.7579022988505747\n"
     ]
    },
    {
     "data": {
      "text/plain": [
       "array([[ 971,  529],\n",
       "       [ 145, 1055]], dtype=int64)"
      ]
     },
     "execution_count": 42,
     "metadata": {},
     "output_type": "execute_result"
    }
   ],
   "source": [
    "y_pred = (model.predict(X_test) > 0.2).astype(\"int32\")\n",
    "print(f'Accuracy: {accuracy_score(y_test, y_pred)}')\n",
    "print(f'f1 score: {f1_score(y_test, y_pred)}')\n",
    "confusion_matrix(y_test, y_pred)"
   ]
  },
  {
   "cell_type": "code",
   "execution_count": 71,
   "id": "ff63a064",
   "metadata": {},
   "outputs": [
    {
     "data": {
      "image/png": "[encoded data removed]",
      "text/plain": [
       "<Figure size 432x288 with 1 Axes>"
      ]
     },
     "metadata": {
      "needs_background": "light"
     },
     "output_type": "display_data"
    },
    {
     "data": {
      "image/png": "[encoded data removed]",
      "text/plain": [
       "<Figure size 432x288 with 1 Axes>"
      ]
     },
     "metadata": {
      "needs_background": "light"
     },
     "output_type": "display_data"
    }
   ],
   "source": [
    "df_metrics = test_thresholds(X_test, y_test)"
   ]
  },
  {
   "cell_type": "code",
   "execution_count": 72,
   "id": "abe1c226",
   "metadata": {},
   "outputs": [
    {
     "data": {
      "text/html": [
       "<div>\n",
       "<style scoped>\n",
       "    .dataframe tbody tr th:only-of-type {\n",
       "        vertical-align: middle;\n",
       "    }\n",
       "\n",
       "    .dataframe tbody tr th {\n",
       "        vertical-align: top;\n",
       "    }\n",
       "\n",
       "    .dataframe thead th {\n",
       "        text-align: right;\n",
       "    }\n",
       "</style>\n",
       "<table border=\"1\" class=\"dataframe\">\n",
       "  <thead>\n",
       "    <tr style=\"text-align: right;\">\n",
       "      <th></th>\n",
       "      <th>accuracy</th>\n",
       "      <th>f1_score</th>\n",
       "      <th>threshold</th>\n",
       "    </tr>\n",
       "  </thead>\n",
       "  <tbody>\n",
       "    <tr>\n",
       "      <th>8</th>\n",
       "      <td>0.807500</td>\n",
       "      <td>0.802395</td>\n",
       "      <td>0.421053</td>\n",
       "    </tr>\n",
       "    <tr>\n",
       "      <th>9</th>\n",
       "      <td>0.806250</td>\n",
       "      <td>0.793792</td>\n",
       "      <td>0.473684</td>\n",
       "    </tr>\n",
       "    <tr>\n",
       "      <th>7</th>\n",
       "      <td>0.802083</td>\n",
       "      <td>0.803150</td>\n",
       "      <td>0.368421</td>\n",
       "    </tr>\n",
       "    <tr>\n",
       "      <th>10</th>\n",
       "      <td>0.798750</td>\n",
       "      <td>0.779754</td>\n",
       "      <td>0.526316</td>\n",
       "    </tr>\n",
       "    <tr>\n",
       "      <th>6</th>\n",
       "      <td>0.794167</td>\n",
       "      <td>0.802558</td>\n",
       "      <td>0.315789</td>\n",
       "    </tr>\n",
       "    <tr>\n",
       "      <th>11</th>\n",
       "      <td>0.789583</td>\n",
       "      <td>0.762129</td>\n",
       "      <td>0.578947</td>\n",
       "    </tr>\n",
       "    <tr>\n",
       "      <th>5</th>\n",
       "      <td>0.787083</td>\n",
       "      <td>0.802321</td>\n",
       "      <td>0.263158</td>\n",
       "    </tr>\n",
       "    <tr>\n",
       "      <th>12</th>\n",
       "      <td>0.777083</td>\n",
       "      <td>0.738642</td>\n",
       "      <td>0.631579</td>\n",
       "    </tr>\n",
       "    <tr>\n",
       "      <th>4</th>\n",
       "      <td>0.766667</td>\n",
       "      <td>0.792899</td>\n",
       "      <td>0.210526</td>\n",
       "    </tr>\n",
       "    <tr>\n",
       "      <th>13</th>\n",
       "      <td>0.766250</td>\n",
       "      <td>0.715661</td>\n",
       "      <td>0.684211</td>\n",
       "    </tr>\n",
       "    <tr>\n",
       "      <th>14</th>\n",
       "      <td>0.750417</td>\n",
       "      <td>0.685234</td>\n",
       "      <td>0.736842</td>\n",
       "    </tr>\n",
       "    <tr>\n",
       "      <th>3</th>\n",
       "      <td>0.739167</td>\n",
       "      <td>0.780966</td>\n",
       "      <td>0.157895</td>\n",
       "    </tr>\n",
       "    <tr>\n",
       "      <th>15</th>\n",
       "      <td>0.729583</td>\n",
       "      <td>0.645936</td>\n",
       "      <td>0.789474</td>\n",
       "    </tr>\n",
       "    <tr>\n",
       "      <th>16</th>\n",
       "      <td>0.711250</td>\n",
       "      <td>0.607810</td>\n",
       "      <td>0.842105</td>\n",
       "    </tr>\n",
       "    <tr>\n",
       "      <th>2</th>\n",
       "      <td>0.695833</td>\n",
       "      <td>0.760184</td>\n",
       "      <td>0.105263</td>\n",
       "    </tr>\n",
       "    <tr>\n",
       "      <th>17</th>\n",
       "      <td>0.682917</td>\n",
       "      <td>0.547831</td>\n",
       "      <td>0.894737</td>\n",
       "    </tr>\n",
       "    <tr>\n",
       "      <th>18</th>\n",
       "      <td>0.650833</td>\n",
       "      <td>0.470291</td>\n",
       "      <td>0.947368</td>\n",
       "    </tr>\n",
       "    <tr>\n",
       "      <th>1</th>\n",
       "      <td>0.610833</td>\n",
       "      <td>0.717825</td>\n",
       "      <td>0.052632</td>\n",
       "    </tr>\n",
       "    <tr>\n",
       "      <th>0</th>\n",
       "      <td>0.500000</td>\n",
       "      <td>0.666667</td>\n",
       "      <td>0.000000</td>\n",
       "    </tr>\n",
       "    <tr>\n",
       "      <th>19</th>\n",
       "      <td>0.500000</td>\n",
       "      <td>0.000000</td>\n",
       "      <td>1.000000</td>\n",
       "    </tr>\n",
       "  </tbody>\n",
       "</table>\n",
       "</div>"
      ],
      "text/plain": [
       "    accuracy  f1_score  threshold\n",
       "8   0.807500  0.802395   0.421053\n",
       "9   0.806250  0.793792   0.473684\n",
       "7   0.802083  0.803150   0.368421\n",
       "10  0.798750  0.779754   0.526316\n",
       "6   0.794167  0.802558   0.315789\n",
       "11  0.789583  0.762129   0.578947\n",
       "5   0.787083  0.802321   0.263158\n",
       "12  0.777083  0.738642   0.631579\n",
       "4   0.766667  0.792899   0.210526\n",
       "13  0.766250  0.715661   0.684211\n",
       "14  0.750417  0.685234   0.736842\n",
       "3   0.739167  0.780966   0.157895\n",
       "15  0.729583  0.645936   0.789474\n",
       "16  0.711250  0.607810   0.842105\n",
       "2   0.695833  0.760184   0.105263\n",
       "17  0.682917  0.547831   0.894737\n",
       "18  0.650833  0.470291   0.947368\n",
       "1   0.610833  0.717825   0.052632\n",
       "0   0.500000  0.666667   0.000000\n",
       "19  0.500000  0.000000   1.000000"
      ]
     },
     "execution_count": 72,
     "metadata": {},
     "output_type": "execute_result"
    }
   ],
   "source": [
    "df_metrics.sort_values('accuracy', ascending=False)"
   ]
  },
  {
   "cell_type": "code",
   "execution_count": null,
   "id": "04886e49",
   "metadata": {},
   "outputs": [],
   "source": []
  }
 ],
 "metadata": {
  "kernelspec": {
   "display_name": "Python 3 (ipykernel)",
   "language": "python",
   "name": "python3"
  },
  "language_info": {
   "codemirror_mode": {
    "name": "ipython",
    "version": 3
   },
   "file_extension": ".py",
   "mimetype": "text/x-python",
   "name": "python",
   "nbconvert_exporter": "python",
   "pygments_lexer": "ipython3",
   "version": "3.8.12"
  }
 },
 "nbformat": 4,
 "nbformat_minor": 5
}
