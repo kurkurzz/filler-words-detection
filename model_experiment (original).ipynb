{
 "cells": [
  {
   "cell_type": "code",
   "execution_count": 120,
   "id": "5917e33b",
   "metadata": {},
   "outputs": [
    {
     "name": "stdout",
     "output_type": "stream",
     "text": [
      "Requirement already satisfied: absl-py in c:\\users\\nurha\\.conda\\envs\\audio_env\\lib\\site-packages (1.1.0)\n"
     ]
    },
    {
     "name": "stderr",
     "output_type": "stream",
     "text": [
      "WARNING: Ignoring invalid distribution -illow (c:\\users\\nurha\\appdata\\roaming\\python\\python38\\site-packages)\n",
      "WARNING: Ignoring invalid distribution -illow (c:\\users\\nurha\\appdata\\roaming\\python\\python38\\site-packages)\n",
      "WARNING: Ignoring invalid distribution -illow (c:\\users\\nurha\\appdata\\roaming\\python\\python38\\site-packages)\n",
      "WARNING: Ignoring invalid distribution -illow (c:\\users\\nurha\\appdata\\roaming\\python\\python38\\site-packages)\n",
      "WARNING: Ignoring invalid distribution -illow (c:\\users\\nurha\\appdata\\roaming\\python\\python38\\site-packages)\n",
      "WARNING: Ignoring invalid distribution -illow (c:\\users\\nurha\\appdata\\roaming\\python\\python38\\site-packages)\n",
      "WARNING: You are using pip version 22.0.4; however, version 22.1.2 is available.\n",
      "You should consider upgrading via the 'C:\\Users\\nurha\\.conda\\envs\\audio_env\\python.exe -m pip install --upgrade pip' command.\n"
     ]
    }
   ],
   "source": [
    "!pip install absl-py"
   ]
  },
  {
   "cell_type": "code",
   "execution_count": 121,
   "id": "4243c792",
   "metadata": {},
   "outputs": [
    {
     "name": "stdout",
     "output_type": "stream",
     "text": [
      "tensorflow version: 2.7.0\n"
     ]
    }
   ],
   "source": [
    "import os\n",
    "import time\n",
    "import shutil\n",
    "import librosa\n",
    "import pandas as pd\n",
    "import numpy as np\n",
    "from tqdm.notebook import tqdm_notebook\n",
    "from sklearn.model_selection import train_test_split\n",
    "from sklearn.metrics import confusion_matrix, classification_report, accuracy_score, f1_score, roc_curve\\\n",
    ",auc\n",
    "import matplotlib.pyplot as plt\n",
    "\n",
    "\n",
    "import tensorflow as tf\n",
    "print(f'tensorflow version: {tf.__version__}')\n",
    "from tensorflow.keras.models import Sequential\n",
    "from tensorflow.keras.layers import Input, Dense, Dropout, Conv2D, MaxPooling2D, BatchNormalization, Flatten\n",
    "from tensorflow.keras.optimizers import Adam\n",
    "from sklearn import metrics\n",
    "from tensorflow.keras.callbacks import ModelCheckpoint, TensorBoard, EarlyStopping"
   ]
  },
  {
   "cell_type": "markdown",
   "id": "2d85ad7c",
   "metadata": {},
   "source": [
    "# Import Data"
   ]
  },
  {
   "cell_type": "code",
   "execution_count": 148,
   "id": "c70ba7e8",
   "metadata": {},
   "outputs": [],
   "source": [
    "df = pd.read_pickle('28k_cleaned.pkl')"
   ]
  },
  {
   "cell_type": "code",
   "execution_count": 149,
   "id": "cff77925",
   "metadata": {},
   "outputs": [
    {
     "data": {
      "text/plain": [
       "0.0    25761\n",
       "1.0     6092\n",
       "Name: um_label, dtype: int64"
      ]
     },
     "execution_count": 149,
     "metadata": {},
     "output_type": "execute_result"
    }
   ],
   "source": [
    "df['um_label'].value_counts()"
   ]
  },
  {
   "cell_type": "code",
   "execution_count": 150,
   "id": "65443437",
   "metadata": {},
   "outputs": [
    {
     "name": "stdout",
     "output_type": "stream",
     "text": [
      "(31853, 13, 94)\n",
      "(31853, 1)\n"
     ]
    }
   ],
   "source": [
    "X = np.stack(df['mfcc'].to_numpy())\n",
    "y = df['um_label'].to_numpy().reshape(-1,1).astype('float32')\n",
    "print(X.shape)\n",
    "print(y.shape)"
   ]
  },
  {
   "cell_type": "code",
   "execution_count": 151,
   "id": "99b928b6",
   "metadata": {},
   "outputs": [
    {
     "data": {
      "text/plain": [
       "(13, 94, 1)"
      ]
     },
     "execution_count": 151,
     "metadata": {},
     "output_type": "execute_result"
    }
   ],
   "source": [
    "X_train, X_test, y_train, y_test = train_test_split(X, y, test_size=0.2, random_state=14)\n",
    "\n",
    "input_shape = (X_train.shape[1], X_train.shape[2], 1)\n",
    "input_shape"
   ]
  },
  {
   "cell_type": "code",
   "execution_count": 165,
   "id": "cca48330",
   "metadata": {},
   "outputs": [],
   "source": [
    "def create_cnn_model(input_shape):\n",
    "    model = Sequential()\n",
    "\n",
    "    model.add(Conv2D(32, (3,3), activation='relu', input_shape=input_shape))\n",
    "    model.add(MaxPooling2D((3,3), strides=(2, 2), padding='same'))\n",
    "    model.add(BatchNormalization())\n",
    "\n",
    "    model.add(Conv2D(64, (3,3), activation='relu', input_shape=input_shape))\n",
    "    model.add(MaxPooling2D((3,3), strides=(2, 2), padding='same'))\n",
    "    model.add(BatchNormalization())\n",
    "\n",
    "    model.add(Conv2D(128, (2,2), activation='relu', input_shape=input_shape))\n",
    "    model.add(MaxPooling2D((2,2), strides=(2, 2), padding='same'))\n",
    "    model.add(BatchNormalization())\n",
    "\n",
    "    model.add(Flatten())\n",
    "    model.add(Dense(64, activation='relu'))\n",
    "    model.add(Dropout(0.5))\n",
    "    \n",
    "    model.add(Dense(64, activation='relu'))\n",
    "    model.add(Dropout(0.5))\n",
    "\n",
    "    model.add(Dense(1, activation='sigmoid'))\n",
    "    \n",
    "    return model"
   ]
  },
  {
   "cell_type": "code",
   "execution_count": 159,
   "id": "744b11e6",
   "metadata": {},
   "outputs": [],
   "source": [
    "model = create_cnn_model(input_shape)"
   ]
  },
  {
   "cell_type": "code",
   "execution_count": 160,
   "id": "720342dd",
   "metadata": {},
   "outputs": [],
   "source": [
    "adam_optimizer = Adam(learning_rate=0.0001)\n",
    "\n",
    "model.compile(loss='binary_crossentropy', metrics=['accuracy'], optimizer=adam_optimizer)"
   ]
  },
  {
   "cell_type": "code",
   "execution_count": 162,
   "id": "9e12e85f",
   "metadata": {},
   "outputs": [
    {
     "name": "stdout",
     "output_type": "stream",
     "text": [
      "Epoch 1/100\n",
      "796/797 [============================>.] - ETA: 0s - loss: 0.5668 - accuracy: 0.7515\n",
      "Epoch 00001: val_loss improved from inf to 0.43593, saving model to model4.hdf5\n",
      "797/797 [==============================] - 17s 21ms/step - loss: 0.5668 - accuracy: 0.7516 - val_loss: 0.4359 - val_accuracy: 0.8132\n",
      "Epoch 2/100\n",
      "794/797 [============================>.] - ETA: 0s - loss: 0.4825 - accuracy: 0.7995\n",
      "Epoch 00002: val_loss improved from 0.43593 to 0.41219, saving model to model4.hdf5\n",
      "797/797 [==============================] - 17s 21ms/step - loss: 0.4822 - accuracy: 0.7996 - val_loss: 0.4122 - val_accuracy: 0.8239\n",
      "Epoch 3/100\n",
      "794/797 [============================>.] - ETA: 0s - loss: 0.4423 - accuracy: 0.8186\n",
      "Epoch 00003: val_loss improved from 0.41219 to 0.37693, saving model to model4.hdf5\n",
      "797/797 [==============================] - 17s 21ms/step - loss: 0.4428 - accuracy: 0.8183 - val_loss: 0.3769 - val_accuracy: 0.8401\n",
      "Epoch 4/100\n",
      "796/797 [============================>.] - ETA: 0s - loss: 0.4091 - accuracy: 0.8341\n",
      "Epoch 00004: val_loss improved from 0.37693 to 0.36043, saving model to model4.hdf5\n",
      "797/797 [==============================] - 18s 23ms/step - loss: 0.4090 - accuracy: 0.8342 - val_loss: 0.3604 - val_accuracy: 0.8532\n",
      "Epoch 5/100\n",
      "794/797 [============================>.] - ETA: 0s - loss: 0.3843 - accuracy: 0.8445\n",
      "Epoch 00005: val_loss improved from 0.36043 to 0.33096, saving model to model4.hdf5\n",
      "797/797 [==============================] - 17s 21ms/step - loss: 0.3845 - accuracy: 0.8444 - val_loss: 0.3310 - val_accuracy: 0.8647\n",
      "Epoch 6/100\n",
      "797/797 [==============================] - ETA: 0s - loss: 0.3593 - accuracy: 0.8570\n",
      "Epoch 00006: val_loss improved from 0.33096 to 0.31878, saving model to model4.hdf5\n",
      "797/797 [==============================] - 16s 21ms/step - loss: 0.3593 - accuracy: 0.8570 - val_loss: 0.3188 - val_accuracy: 0.8736\n",
      "Epoch 7/100\n",
      "794/797 [============================>.] - ETA: 0s - loss: 0.3395 - accuracy: 0.8634\n",
      "Epoch 00007: val_loss improved from 0.31878 to 0.31124, saving model to model4.hdf5\n",
      "797/797 [==============================] - 17s 21ms/step - loss: 0.3394 - accuracy: 0.8634 - val_loss: 0.3112 - val_accuracy: 0.8749\n",
      "Epoch 8/100\n",
      "794/797 [============================>.] - ETA: 0s - loss: 0.3230 - accuracy: 0.8693\n",
      "Epoch 00008: val_loss improved from 0.31124 to 0.29657, saving model to model4.hdf5\n",
      "797/797 [==============================] - 16s 20ms/step - loss: 0.3232 - accuracy: 0.8693 - val_loss: 0.2966 - val_accuracy: 0.8804\n",
      "Epoch 9/100\n",
      "795/797 [============================>.] - ETA: 0s - loss: 0.3067 - accuracy: 0.8793\n",
      "Epoch 00009: val_loss improved from 0.29657 to 0.29229, saving model to model4.hdf5\n",
      "797/797 [==============================] - 16s 20ms/step - loss: 0.3069 - accuracy: 0.8792 - val_loss: 0.2923 - val_accuracy: 0.8846\n",
      "Epoch 10/100\n",
      "794/797 [============================>.] - ETA: 0s - loss: 0.2962 - accuracy: 0.8817\n",
      "Epoch 00010: val_loss improved from 0.29229 to 0.28283, saving model to model4.hdf5\n",
      "797/797 [==============================] - 16s 20ms/step - loss: 0.2961 - accuracy: 0.8817 - val_loss: 0.2828 - val_accuracy: 0.8906\n",
      "Epoch 11/100\n",
      "795/797 [============================>.] - ETA: 0s - loss: 0.2854 - accuracy: 0.8862\n",
      "Epoch 00011: val_loss improved from 0.28283 to 0.27932, saving model to model4.hdf5\n",
      "797/797 [==============================] - 16s 20ms/step - loss: 0.2854 - accuracy: 0.8862 - val_loss: 0.2793 - val_accuracy: 0.8914\n",
      "Epoch 12/100\n",
      "794/797 [============================>.] - ETA: 0s - loss: 0.2710 - accuracy: 0.8926\n",
      "Epoch 00012: val_loss improved from 0.27932 to 0.27101, saving model to model4.hdf5\n",
      "797/797 [==============================] - 16s 20ms/step - loss: 0.2709 - accuracy: 0.8926 - val_loss: 0.2710 - val_accuracy: 0.8975\n",
      "Epoch 13/100\n",
      "794/797 [============================>.] - ETA: 0s - loss: 0.2655 - accuracy: 0.8953\n",
      "Epoch 00013: val_loss improved from 0.27101 to 0.26932, saving model to model4.hdf5\n",
      "797/797 [==============================] - 17s 21ms/step - loss: 0.2655 - accuracy: 0.8954 - val_loss: 0.2693 - val_accuracy: 0.8988\n",
      "Epoch 14/100\n",
      "796/797 [============================>.] - ETA: 0s - loss: 0.2532 - accuracy: 0.8991\n",
      "Epoch 00014: val_loss did not improve from 0.26932\n",
      "797/797 [==============================] - 19s 23ms/step - loss: 0.2532 - accuracy: 0.8991 - val_loss: 0.2790 - val_accuracy: 0.8956\n",
      "Epoch 15/100\n",
      "795/797 [============================>.] - ETA: 0s - loss: 0.2423 - accuracy: 0.9037\n",
      "Epoch 00015: val_loss improved from 0.26932 to 0.26357, saving model to model4.hdf5\n",
      "797/797 [==============================] - 17s 21ms/step - loss: 0.2423 - accuracy: 0.9037 - val_loss: 0.2636 - val_accuracy: 0.9038\n",
      "Epoch 16/100\n",
      "795/797 [============================>.] - ETA: 0s - loss: 0.2309 - accuracy: 0.9088\n",
      "Epoch 00016: val_loss did not improve from 0.26357\n",
      "797/797 [==============================] - 17s 21ms/step - loss: 0.2310 - accuracy: 0.9088 - val_loss: 0.2726 - val_accuracy: 0.8988\n",
      "Epoch 17/100\n",
      "795/797 [============================>.] - ETA: 0s - loss: 0.2220 - accuracy: 0.9122\n",
      "Epoch 00017: val_loss did not improve from 0.26357\n",
      "797/797 [==============================] - 16s 20ms/step - loss: 0.2219 - accuracy: 0.9122 - val_loss: 0.2710 - val_accuracy: 0.8950\n",
      "Epoch 18/100\n",
      "795/797 [============================>.] - ETA: 0s - loss: 0.2149 - accuracy: 0.9174\n",
      "Epoch 00018: val_loss did not improve from 0.26357\n",
      "797/797 [==============================] - 16s 20ms/step - loss: 0.2149 - accuracy: 0.9173 - val_loss: 0.2656 - val_accuracy: 0.9002\n",
      "Epoch 19/100\n",
      "795/797 [============================>.] - ETA: 0s - loss: 0.2062 - accuracy: 0.9165\n",
      "Epoch 00019: val_loss did not improve from 0.26357\n",
      "797/797 [==============================] - 16s 20ms/step - loss: 0.2061 - accuracy: 0.9165 - val_loss: 0.2691 - val_accuracy: 0.9005\n",
      "Epoch 20/100\n",
      "794/797 [============================>.] - ETA: 0s - loss: 0.1947 - accuracy: 0.9223\n",
      "Epoch 00020: val_loss did not improve from 0.26357\n",
      "797/797 [==============================] - 16s 20ms/step - loss: 0.1945 - accuracy: 0.9224 - val_loss: 0.3051 - val_accuracy: 0.8994\n",
      "Epoch 21/100\n",
      "795/797 [============================>.] - ETA: 0s - loss: 0.1873 - accuracy: 0.9262\n",
      "Epoch 00021: val_loss did not improve from 0.26357\n",
      "797/797 [==============================] - 16s 20ms/step - loss: 0.1875 - accuracy: 0.9261 - val_loss: 0.2880 - val_accuracy: 0.9011\n",
      "Epoch 22/100\n",
      "794/797 [============================>.] - ETA: 0s - loss: 0.1819 - accuracy: 0.9260\n",
      "Epoch 00022: val_loss did not improve from 0.26357\n",
      "797/797 [==============================] - 16s 21ms/step - loss: 0.1820 - accuracy: 0.9260 - val_loss: 0.3124 - val_accuracy: 0.9010\n",
      "Epoch 23/100\n",
      "795/797 [============================>.] - ETA: 0s - loss: 0.1703 - accuracy: 0.9312\n",
      "Epoch 00023: val_loss did not improve from 0.26357\n",
      "797/797 [==============================] - 16s 20ms/step - loss: 0.1702 - accuracy: 0.9312 - val_loss: 0.3198 - val_accuracy: 0.9025\n",
      "Epoch 24/100\n",
      "795/797 [============================>.] - ETA: 0s - loss: 0.1626 - accuracy: 0.9355\n",
      "Epoch 00024: val_loss did not improve from 0.26357\n",
      "797/797 [==============================] - 17s 21ms/step - loss: 0.1625 - accuracy: 0.9356 - val_loss: 0.3103 - val_accuracy: 0.8956\n",
      "Epoch 25/100\n",
      "796/797 [============================>.] - ETA: 0s - loss: 0.1582 - accuracy: 0.9364\n",
      "Epoch 00025: val_loss did not improve from 0.26357\n",
      "797/797 [==============================] - 16s 21ms/step - loss: 0.1582 - accuracy: 0.9364 - val_loss: 0.3196 - val_accuracy: 0.8995\n",
      "Epoch 26/100\n",
      "796/797 [============================>.] - ETA: 0s - loss: 0.1454 - accuracy: 0.9405\n",
      "Epoch 00026: val_loss did not improve from 0.26357\n",
      "797/797 [==============================] - 17s 21ms/step - loss: 0.1454 - accuracy: 0.9405 - val_loss: 0.3241 - val_accuracy: 0.9025\n",
      "Epoch 27/100\n",
      "794/797 [============================>.] - ETA: 0s - loss: 0.1450 - accuracy: 0.9415\n",
      "Epoch 00027: val_loss did not improve from 0.26357\n",
      "797/797 [==============================] - 17s 21ms/step - loss: 0.1449 - accuracy: 0.9416 - val_loss: 0.3464 - val_accuracy: 0.8981\n",
      "Epoch 28/100\n",
      "795/797 [============================>.] - ETA: 0s - loss: 0.1327 - accuracy: 0.9472\n",
      "Epoch 00028: val_loss did not improve from 0.26357\n",
      "797/797 [==============================] - 17s 21ms/step - loss: 0.1327 - accuracy: 0.9472 - val_loss: 0.3608 - val_accuracy: 0.9003\n"
     ]
    },
    {
     "name": "stdout",
     "output_type": "stream",
     "text": [
      "Epoch 29/100\n",
      "795/797 [============================>.] - ETA: 0s - loss: 0.1283 - accuracy: 0.9477\n",
      "Epoch 00029: val_loss did not improve from 0.26357\n",
      "797/797 [==============================] - 16s 21ms/step - loss: 0.1283 - accuracy: 0.9478 - val_loss: 0.3456 - val_accuracy: 0.8994\n",
      "Epoch 30/100\n",
      "794/797 [============================>.] - ETA: 0s - loss: 0.1233 - accuracy: 0.9516\n",
      "Epoch 00030: val_loss did not improve from 0.26357\n",
      "797/797 [==============================] - 16s 21ms/step - loss: 0.1233 - accuracy: 0.9515 - val_loss: 0.3781 - val_accuracy: 0.8953\n",
      "Epoch 00030: early stopping\n",
      "CPU times: total: 58min 7s\n",
      "Wall time: 8min 17s\n"
     ]
    }
   ],
   "source": [
    "%%time\n",
    "num_epochs = 100\n",
    "num_batch_size = 32\n",
    "\n",
    "model_checkpoint = ModelCheckpoint(filepath='model4.hdf5', \n",
    "                               verbose=1, save_best_only=True)\n",
    "\n",
    "early_stop = EarlyStopping(monitor='val_loss', mode='min', verbose=1, patience=15)\n",
    "\n",
    "history = model.fit(X_train, \n",
    "          y_train, \n",
    "          batch_size=num_batch_size, \n",
    "          epochs=num_epochs, \n",
    "          validation_data=(X_test, y_test), \n",
    "          callbacks=[model_checkpoint, early_stop], \n",
    "          verbose=1)"
   ]
  },
  {
   "cell_type": "markdown",
   "id": "7f29044a",
   "metadata": {},
   "source": [
    "# Test Model"
   ]
  },
  {
   "cell_type": "code",
   "execution_count": 168,
   "id": "a4c8b540",
   "metadata": {},
   "outputs": [],
   "source": [
    "model = create_cnn_model(input_shape)\n",
    "\n",
    "model.load_weights('models/v4.hdf5')"
   ]
  },
  {
   "cell_type": "code",
   "execution_count": 169,
   "id": "3030239d",
   "metadata": {},
   "outputs": [],
   "source": [
    "def test_thresholds(X, y):\n",
    "    fpr, tpr, thresholds = roc_curve(y, model.predict(X))\n",
    "    plt.figure()\n",
    "    lw = 2\n",
    "    plt.plot(\n",
    "        fpr,\n",
    "        tpr,\n",
    "        color=\"darkorange\",\n",
    "        lw=lw,\n",
    "        label=\"ROC curve (area = %0.2f)\" % auc(fpr, tpr),\n",
    "    )\n",
    "    plt.plot([0, 1], [0, 1], color=\"navy\", lw=lw, linestyle=\"--\")\n",
    "    plt.xlim([0.0, 1.0])\n",
    "    plt.ylim([0.0, 1.05])\n",
    "    plt.xlabel(\"False Positive Rate\")\n",
    "    plt.ylabel(\"True Positive Rate\")\n",
    "    plt.title(\"Receiver operating characteristic example\")\n",
    "    plt.legend(loc=\"lower right\")\n",
    "    plt.show()\n",
    "    \n",
    "    possible_thresholds = np.linspace(0, 1, num=50)\n",
    "    df_metrics = pd.DataFrame()\n",
    "    for threshold in possible_thresholds:\n",
    "        y_pred = (model.predict(X) > threshold).astype(\"int32\")\n",
    "        df_metrics = df_metrics.append({\n",
    "            'threshold': threshold,\n",
    "            'accuracy': accuracy_score(y, y_pred),\n",
    "            'f1_score': f1_score(y, y_pred)\n",
    "        }, ignore_index=True)\n",
    "        \n",
    "    sns.lineplot(data=df_metrics.set_index('threshold'), palette=\"tab10\", linewidth=2.5)\n",
    "    \n",
    "    return df_metrics"
   ]
  },
  {
   "cell_type": "code",
   "execution_count": 173,
   "id": "44ad7e5e",
   "metadata": {},
   "outputs": [
    {
     "name": "stdout",
     "output_type": "stream",
     "text": [
      "Accuracy: 0.9037827656568828\n",
      "f1 score: 0.7136851938346568\n"
     ]
    },
    {
     "data": {
      "text/plain": [
       "array([[4994,  177],\n",
       "       [ 436,  764]], dtype=int64)"
      ]
     },
     "execution_count": 173,
     "metadata": {},
     "output_type": "execute_result"
    }
   ],
   "source": [
    "y_pred = (model.predict(X_test) > 0.5).astype(\"int32\")\n",
    "print(f'Accuracy: {accuracy_score(y_test, y_pred)}')\n",
    "print(f'f1 score: {f1_score(y_test, y_pred)}')\n",
    "confusion_matrix(y_test, y_pred)"
   ]
  },
  {
   "cell_type": "code",
   "execution_count": null,
   "id": "ff63a064",
   "metadata": {},
   "outputs": [],
   "source": []
  }
 ],
 "metadata": {
  "kernelspec": {
   "display_name": "Python 3 (ipykernel)",
   "language": "python",
   "name": "python3"
  },
  "language_info": {
   "codemirror_mode": {
    "name": "ipython",
    "version": 3
   },
   "file_extension": ".py",
   "mimetype": "text/x-python",
   "name": "python",
   "nbconvert_exporter": "python",
   "pygments_lexer": "ipython3",
   "version": "3.8.12"
  }
 },
 "nbformat": 4,
 "nbformat_minor": 5
}
