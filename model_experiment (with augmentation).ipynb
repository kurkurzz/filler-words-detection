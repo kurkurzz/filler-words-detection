{
 "cells": [
  {
   "cell_type": "code",
   "execution_count": 2,
   "id": "4243c792",
   "metadata": {},
   "outputs": [
    {
     "name": "stdout",
     "output_type": "stream",
     "text": [
      "tensorflow version: 2.7.0\n"
     ]
    }
   ],
   "source": [
    "import os\n",
    "import time\n",
    "import shutil\n",
    "import librosa\n",
    "import pandas as pd\n",
    "import numpy as np\n",
    "from tqdm.notebook import tqdm_notebook\n",
    "from sklearn.model_selection import train_test_split\n",
    "from sklearn.metrics import confusion_matrix, classification_report, accuracy_score, f1_score, roc_curve\\\n",
    ",auc\n",
    "import matplotlib.pyplot as plt\n",
    "import seaborn as sns\n",
    "\n",
    "\n",
    "import tensorflow as tf\n",
    "print(f'tensorflow version: {tf.__version__}')\n",
    "from tensorflow.keras.models import Sequential\n",
    "from tensorflow.keras.layers import Input, Dense, Dropout, Conv2D, MaxPooling2D, BatchNormalization, Flatten\n",
    "from tensorflow.keras.optimizers import Adam\n",
    "from sklearn import metrics\n",
    "from tensorflow.keras.callbacks import ModelCheckpoint, TensorBoard, EarlyStopping"
   ]
  },
  {
   "cell_type": "code",
   "execution_count": 3,
   "id": "38c9717e",
   "metadata": {},
   "outputs": [],
   "source": [
    "tqdm_notebook.pandas()"
   ]
  },
  {
   "cell_type": "markdown",
   "id": "2d85ad7c",
   "metadata": {},
   "source": [
    "# import and convert to mfcc"
   ]
  },
  {
   "cell_type": "code",
   "execution_count": 7,
   "id": "6951efa4",
   "metadata": {},
   "outputs": [],
   "source": [
    "train_df = pd.DataFrame(columns=['full_path', 'filename', 'mfcc', 'is_train', 'is_augmented', 'um_label'])\n",
    "test_df = pd.DataFrame(columns=['full_path', 'filename', 'mfcc', 'is_train', 'is_augmented', 'um_label'])"
   ]
  },
  {
   "cell_type": "code",
   "execution_count": 8,
   "id": "53b48fbf",
   "metadata": {},
   "outputs": [],
   "source": [
    "path = 'dataset_clips'\n",
    "for filename in os.listdir(f'{path}/train/true/'):\n",
    "    new_row = {'full_path': f'{path}/train/true/', 'filename': filename, 'is_train': True, 'is_augmented': False, 'um_label': 1}\n",
    "    train_df = train_df.append(new_row, ignore_index = True)\n",
    "\n",
    "for filename in os.listdir(f'{path}/train/augmented_true/'):\n",
    "    new_row = {'full_path': f'{path}/train/augmented_true/', 'filename': filename, 'is_train': True, 'is_augmented': True, 'um_label': 1}\n",
    "    train_df = train_df.append(new_row, ignore_index = True)\n",
    "    \n",
    "for filename in os.listdir(f'{path}/train/false/'):\n",
    "    new_row = {'full_path': f'{path}/train/false/', 'filename': filename, 'is_train': True, 'is_augmented': False, 'um_label': 0}\n",
    "    train_df = train_df.append(new_row, ignore_index = True)"
   ]
  },
  {
   "cell_type": "code",
   "execution_count": 9,
   "id": "e9042344",
   "metadata": {},
   "outputs": [],
   "source": [
    "path = 'dataset_clips'\n",
    "for filename in os.listdir(f'{path}/test/true/'):\n",
    "    new_row = {'full_path': f'{path}/test/true/', 'filename': filename, 'is_train': False, 'is_augmented': False, 'um_label': 1}\n",
    "    test_df = test_df.append(new_row, ignore_index = True)\n",
    "\n",
    "for filename in os.listdir(f'{path}/test/false/'):\n",
    "    new_row = {'full_path': f'{path}/test/false/', 'filename': filename, 'is_train': False, 'is_augmented': False, 'um_label': 0}\n",
    "    test_df = test_df.append(new_row, ignore_index = True)"
   ]
  },
  {
   "cell_type": "markdown",
   "id": "6bd6f60c",
   "metadata": {},
   "source": [
    "## Convert to MFCC"
   ]
  },
  {
   "cell_type": "code",
   "execution_count": 21,
   "id": "060bcdef",
   "metadata": {},
   "outputs": [],
   "source": [
    "def extract_mfcc(df):\n",
    "    try:\n",
    "        audio, sr = librosa.load(f'{df[\"full_path\"]}{df[\"filename\"]}', sr=16000)\n",
    "        mfcc = librosa.feature.mfcc(audio, sr, n_mfcc=13)\n",
    "        return mfcc\n",
    "    except:\n",
    "        return None"
   ]
  },
  {
   "cell_type": "code",
   "execution_count": 22,
   "id": "1bef26db",
   "metadata": {},
   "outputs": [
    {
     "data": {
      "application/vnd.jupyter.widget-view+json": {
       "model_id": "9a169b963a5f4720bb36306175a66373",
       "version_major": 2,
       "version_minor": 0
      },
      "text/plain": [
       "  0%|          | 0/45370 [00:00<?, ?it/s]"
      ]
     },
     "metadata": {},
     "output_type": "display_data"
    },
    {
     "name": "stdout",
     "output_type": "stream",
     "text": [
      "CPU times: total: 7min 3s\n",
      "Wall time: 6min 48s\n"
     ]
    }
   ],
   "source": [
    "%%time\n",
    "train_df['mfcc'] = train_df.progress_apply(extract_mfcc, axis=1)\n",
    "test_df['mfcc'] = test_df.progress_apply(extract_mfcc, axis=1)"
   ]
  },
  {
   "cell_type": "code",
   "execution_count": 46,
   "id": "98a0da87",
   "metadata": {},
   "outputs": [],
   "source": [
    "X_train = np.stack(train_df['mfcc'].to_numpy())\n",
    "y_train = train_df['um_label'].to_numpy().reshape(-1,1).astype('float32')\n",
    "\n",
    "X_test = np.stack(test_df['mfcc'].to_numpy())\n",
    "y_test = test_df['um_label'].to_numpy().reshape(-1,1).astype('float32')"
   ]
  },
  {
   "cell_type": "code",
   "execution_count": 48,
   "id": "90fab8d8",
   "metadata": {},
   "outputs": [
    {
     "data": {
      "text/plain": [
       "(13, 94, 1)"
      ]
     },
     "execution_count": 48,
     "metadata": {},
     "output_type": "execute_result"
    }
   ],
   "source": [
    "input_shape = (X_train.shape[1], X_train.shape[2], 1)\n",
    "input_shape"
   ]
  },
  {
   "cell_type": "markdown",
   "id": "24932daa",
   "metadata": {},
   "source": [
    "# Train model"
   ]
  },
  {
   "cell_type": "code",
   "execution_count": 50,
   "id": "cca48330",
   "metadata": {},
   "outputs": [],
   "source": [
    "def create_cnn_model(input_shape):\n",
    "    model = Sequential()\n",
    "\n",
    "    model.add(Conv2D(32, (3,3), activation='relu', input_shape=input_shape))\n",
    "    model.add(MaxPooling2D((3,3), strides=(2, 2), padding='same'))\n",
    "    model.add(BatchNormalization())\n",
    "\n",
    "    model.add(Conv2D(64, (3,3), activation='relu', input_shape=input_shape))\n",
    "    model.add(MaxPooling2D((3,3), strides=(2, 2), padding='same'))\n",
    "    model.add(BatchNormalization())\n",
    "\n",
    "    model.add(Conv2D(128, (2,2), activation='relu', input_shape=input_shape))\n",
    "    model.add(MaxPooling2D((2,2), strides=(2, 2), padding='same'))\n",
    "    model.add(BatchNormalization())\n",
    "\n",
    "    model.add(Flatten())\n",
    "    model.add(Dense(64, activation='relu'))\n",
    "    model.add(Dropout(0.5))\n",
    "    \n",
    "    model.add(Dense(64, activation='relu'))\n",
    "    model.add(Dropout(0.5))\n",
    "\n",
    "    model.add(Dense(1, activation='sigmoid'))\n",
    "    \n",
    "    return model"
   ]
  },
  {
   "cell_type": "code",
   "execution_count": 51,
   "id": "744b11e6",
   "metadata": {},
   "outputs": [],
   "source": [
    "model = create_cnn_model(input_shape)"
   ]
  },
  {
   "cell_type": "code",
   "execution_count": 53,
   "id": "720342dd",
   "metadata": {},
   "outputs": [],
   "source": [
    "adam_optimizer = Adam(learning_rate=0.00005)\n",
    "\n",
    "model.compile(loss='binary_crossentropy', metrics=['accuracy'], optimizer=adam_optimizer)"
   ]
  },
  {
   "cell_type": "code",
   "execution_count": 54,
   "id": "9e12e85f",
   "metadata": {},
   "outputs": [
    {
     "name": "stdout",
     "output_type": "stream",
     "text": [
      "Epoch 1/100\n",
      "609/610 [============================>.] - ETA: 0s - loss: 0.6299 - accuracy: 0.6781\n",
      "Epoch 00001: val_loss improved from inf to 0.54749, saving model to models\\v5 (augmented).hdf5\n",
      "610/610 [==============================] - 22s 36ms/step - loss: 0.6300 - accuracy: 0.6781 - val_loss: 0.5475 - val_accuracy: 0.7600\n",
      "Epoch 2/100\n",
      "609/610 [============================>.] - ETA: 0s - loss: 0.4973 - accuracy: 0.7582\n",
      "Epoch 00002: val_loss improved from 0.54749 to 0.51847, saving model to models\\v5 (augmented).hdf5\n",
      "610/610 [==============================] - 21s 34ms/step - loss: 0.4973 - accuracy: 0.7583 - val_loss: 0.5185 - val_accuracy: 0.7733\n",
      "Epoch 3/100\n",
      "609/610 [============================>.] - ETA: 0s - loss: 0.4386 - accuracy: 0.7980\n",
      "Epoch 00003: val_loss improved from 0.51847 to 0.46163, saving model to models\\v5 (augmented).hdf5\n",
      "610/610 [==============================] - 21s 34ms/step - loss: 0.4386 - accuracy: 0.7980 - val_loss: 0.4616 - val_accuracy: 0.8063\n",
      "Epoch 4/100\n",
      "608/610 [============================>.] - ETA: 0s - loss: 0.4001 - accuracy: 0.8243\n",
      "Epoch 00004: val_loss improved from 0.46163 to 0.42128, saving model to models\\v5 (augmented).hdf5\n",
      "610/610 [==============================] - 21s 35ms/step - loss: 0.4002 - accuracy: 0.8243 - val_loss: 0.4213 - val_accuracy: 0.8223\n",
      "Epoch 5/100\n",
      "608/610 [============================>.] - ETA: 0s - loss: 0.3731 - accuracy: 0.8389\n",
      "Epoch 00005: val_loss improved from 0.42128 to 0.39519, saving model to models\\v5 (augmented).hdf5\n",
      "610/610 [==============================] - 22s 35ms/step - loss: 0.3729 - accuracy: 0.8391 - val_loss: 0.3952 - val_accuracy: 0.8330\n",
      "Epoch 6/100\n",
      "609/610 [============================>.] - ETA: 0s - loss: 0.3470 - accuracy: 0.8544\n",
      "Epoch 00006: val_loss improved from 0.39519 to 0.39018, saving model to models\\v5 (augmented).hdf5\n",
      "610/610 [==============================] - 23s 37ms/step - loss: 0.3470 - accuracy: 0.8544 - val_loss: 0.3902 - val_accuracy: 0.8363\n",
      "Epoch 7/100\n",
      "609/610 [============================>.] - ETA: 0s - loss: 0.3258 - accuracy: 0.8651\n",
      "Epoch 00007: val_loss improved from 0.39018 to 0.35013, saving model to models\\v5 (augmented).hdf5\n",
      "610/610 [==============================] - 22s 36ms/step - loss: 0.3259 - accuracy: 0.8651 - val_loss: 0.3501 - val_accuracy: 0.8581\n",
      "Epoch 8/100\n",
      "609/610 [============================>.] - ETA: 0s - loss: 0.3100 - accuracy: 0.8730\n",
      "Epoch 00008: val_loss did not improve from 0.35013\n",
      "610/610 [==============================] - 21s 35ms/step - loss: 0.3101 - accuracy: 0.8729 - val_loss: 0.3542 - val_accuracy: 0.8592\n",
      "Epoch 9/100\n",
      "610/610 [==============================] - ETA: 0s - loss: 0.3039 - accuracy: 0.8765\n",
      "Epoch 00009: val_loss improved from 0.35013 to 0.34931, saving model to models\\v5 (augmented).hdf5\n",
      "610/610 [==============================] - 22s 35ms/step - loss: 0.3039 - accuracy: 0.8765 - val_loss: 0.3493 - val_accuracy: 0.8622\n",
      "Epoch 10/100\n",
      "608/610 [============================>.] - ETA: 0s - loss: 0.2842 - accuracy: 0.8836\n",
      "Epoch 00010: val_loss improved from 0.34931 to 0.33300, saving model to models\\v5 (augmented).hdf5\n",
      "610/610 [==============================] - 22s 36ms/step - loss: 0.2841 - accuracy: 0.8837 - val_loss: 0.3330 - val_accuracy: 0.8677\n",
      "Epoch 11/100\n",
      "608/610 [============================>.] - ETA: 0s - loss: 0.2767 - accuracy: 0.8878\n",
      "Epoch 00011: val_loss improved from 0.33300 to 0.32536, saving model to models\\v5 (augmented).hdf5\n",
      "610/610 [==============================] - 21s 35ms/step - loss: 0.2766 - accuracy: 0.8878 - val_loss: 0.3254 - val_accuracy: 0.8697\n",
      "Epoch 12/100\n",
      "609/610 [============================>.] - ETA: 0s - loss: 0.2702 - accuracy: 0.8908\n",
      "Epoch 00012: val_loss did not improve from 0.32536\n",
      "610/610 [==============================] - 21s 35ms/step - loss: 0.2705 - accuracy: 0.8908 - val_loss: 0.3330 - val_accuracy: 0.8686\n",
      "Epoch 13/100\n",
      "609/610 [============================>.] - ETA: 0s - loss: 0.2605 - accuracy: 0.8961\n",
      "Epoch 00013: val_loss improved from 0.32536 to 0.31333, saving model to models\\v5 (augmented).hdf5\n",
      "610/610 [==============================] - 21s 34ms/step - loss: 0.2604 - accuracy: 0.8961 - val_loss: 0.3133 - val_accuracy: 0.8760\n",
      "Epoch 14/100\n",
      "609/610 [============================>.] - ETA: 0s - loss: 0.2546 - accuracy: 0.8986\n",
      "Epoch 00014: val_loss improved from 0.31333 to 0.30669, saving model to models\\v5 (augmented).hdf5\n",
      "610/610 [==============================] - 21s 34ms/step - loss: 0.2545 - accuracy: 0.8986 - val_loss: 0.3067 - val_accuracy: 0.8806\n",
      "Epoch 15/100\n",
      "609/610 [============================>.] - ETA: 0s - loss: 0.2464 - accuracy: 0.9009\n",
      "Epoch 00015: val_loss improved from 0.30669 to 0.29632, saving model to models\\v5 (augmented).hdf5\n",
      "610/610 [==============================] - 21s 35ms/step - loss: 0.2463 - accuracy: 0.9009 - val_loss: 0.2963 - val_accuracy: 0.8845\n",
      "Epoch 16/100\n",
      "609/610 [============================>.] - ETA: 0s - loss: 0.2400 - accuracy: 0.9047\n",
      "Epoch 00016: val_loss did not improve from 0.29632\n",
      "610/610 [==============================] - 21s 34ms/step - loss: 0.2401 - accuracy: 0.9048 - val_loss: 0.3023 - val_accuracy: 0.8802\n",
      "Epoch 17/100\n",
      "610/610 [==============================] - ETA: 0s - loss: 0.2324 - accuracy: 0.9073\n",
      "Epoch 00017: val_loss did not improve from 0.29632\n",
      "610/610 [==============================] - 22s 36ms/step - loss: 0.2324 - accuracy: 0.9073 - val_loss: 0.3087 - val_accuracy: 0.8793\n",
      "Epoch 18/100\n",
      "609/610 [============================>.] - ETA: 0s - loss: 0.2290 - accuracy: 0.9080\n",
      "Epoch 00018: val_loss improved from 0.29632 to 0.29523, saving model to models\\v5 (augmented).hdf5\n",
      "610/610 [==============================] - 22s 36ms/step - loss: 0.2291 - accuracy: 0.9080 - val_loss: 0.2952 - val_accuracy: 0.8875\n",
      "Epoch 19/100\n",
      "608/610 [============================>.] - ETA: 0s - loss: 0.2187 - accuracy: 0.9111\n",
      "Epoch 00019: val_loss did not improve from 0.29523\n",
      "610/610 [==============================] - 22s 37ms/step - loss: 0.2187 - accuracy: 0.9111 - val_loss: 0.3001 - val_accuracy: 0.8837\n",
      "Epoch 20/100\n",
      "609/610 [============================>.] - ETA: 0s - loss: 0.2141 - accuracy: 0.9144\n",
      "Epoch 00020: val_loss did not improve from 0.29523\n",
      "610/610 [==============================] - 21s 35ms/step - loss: 0.2141 - accuracy: 0.9144 - val_loss: 0.2964 - val_accuracy: 0.8843\n",
      "Epoch 21/100\n",
      "608/610 [============================>.] - ETA: 0s - loss: 0.2132 - accuracy: 0.9162\n",
      "Epoch 00021: val_loss improved from 0.29523 to 0.28874, saving model to models\\v5 (augmented).hdf5\n",
      "610/610 [==============================] - 22s 36ms/step - loss: 0.2132 - accuracy: 0.9162 - val_loss: 0.2887 - val_accuracy: 0.8892\n",
      "Epoch 22/100\n",
      "609/610 [============================>.] - ETA: 0s - loss: 0.2039 - accuracy: 0.9200\n",
      "Epoch 00022: val_loss improved from 0.28874 to 0.28548, saving model to models\\v5 (augmented).hdf5\n",
      "610/610 [==============================] - 21s 35ms/step - loss: 0.2040 - accuracy: 0.9199 - val_loss: 0.2855 - val_accuracy: 0.8914\n",
      "Epoch 23/100\n",
      "609/610 [============================>.] - ETA: 0s - loss: 0.2040 - accuracy: 0.9198\n",
      "Epoch 00023: val_loss did not improve from 0.28548\n",
      "610/610 [==============================] - 22s 36ms/step - loss: 0.2040 - accuracy: 0.9198 - val_loss: 0.2951 - val_accuracy: 0.8865\n",
      "Epoch 24/100\n",
      "608/610 [============================>.] - ETA: 0s - loss: 0.1954 - accuracy: 0.9234\n",
      "Epoch 00024: val_loss did not improve from 0.28548\n",
      "610/610 [==============================] - 22s 36ms/step - loss: 0.1954 - accuracy: 0.9234 - val_loss: 0.2926 - val_accuracy: 0.8900\n",
      "Epoch 25/100\n",
      "608/610 [============================>.] - ETA: 0s - loss: 0.1887 - accuracy: 0.9260\n",
      "Epoch 00025: val_loss did not improve from 0.28548\n",
      "610/610 [==============================] - 21s 35ms/step - loss: 0.1887 - accuracy: 0.9260 - val_loss: 0.3056 - val_accuracy: 0.8813\n",
      "Epoch 26/100\n",
      "610/610 [==============================] - ETA: 0s - loss: 0.1840 - accuracy: 0.9276\n",
      "Epoch 00026: val_loss did not improve from 0.28548\n",
      "610/610 [==============================] - 21s 35ms/step - loss: 0.1840 - accuracy: 0.9276 - val_loss: 0.2918 - val_accuracy: 0.8889\n",
      "Epoch 27/100\n",
      "608/610 [============================>.] - ETA: 0s - loss: 0.1831 - accuracy: 0.9275\n",
      "Epoch 00027: val_loss did not improve from 0.28548\n",
      "610/610 [==============================] - 22s 36ms/step - loss: 0.1831 - accuracy: 0.9275 - val_loss: 0.2944 - val_accuracy: 0.8881\n",
      "Epoch 28/100\n",
      "609/610 [============================>.] - ETA: 0s - loss: 0.1737 - accuracy: 0.9323\n",
      "Epoch 00028: val_loss did not improve from 0.28548\n",
      "610/610 [==============================] - 21s 34ms/step - loss: 0.1738 - accuracy: 0.9323 - val_loss: 0.3177 - val_accuracy: 0.8752\n",
      "Epoch 29/100\n",
      "608/610 [============================>.] - ETA: 0s - loss: 0.1710 - accuracy: 0.9331\n",
      "Epoch 00029: val_loss did not improve from 0.28548\n",
      "610/610 [==============================] - 21s 35ms/step - loss: 0.1711 - accuracy: 0.9331 - val_loss: 0.3150 - val_accuracy: 0.8884\n",
      "Epoch 30/100\n",
      "609/610 [============================>.] - ETA: 0s - loss: 0.1663 - accuracy: 0.9349\n",
      "Epoch 00030: val_loss did not improve from 0.28548\n",
      "610/610 [==============================] - 21s 34ms/step - loss: 0.1665 - accuracy: 0.9348 - val_loss: 0.2985 - val_accuracy: 0.8871\n",
      "Epoch 31/100\n",
      "609/610 [============================>.] - ETA: 0s - loss: 0.1601 - accuracy: 0.9370\n",
      "Epoch 00031: val_loss did not improve from 0.28548\n",
      "610/610 [==============================] - 21s 35ms/step - loss: 0.1603 - accuracy: 0.9370 - val_loss: 0.3067 - val_accuracy: 0.8915\n",
      "Epoch 32/100\n",
      "609/610 [============================>.] - ETA: 0s - loss: 0.1569 - accuracy: 0.9368\n",
      "Epoch 00032: val_loss did not improve from 0.28548\n",
      "610/610 [==============================] - 21s 35ms/step - loss: 0.1570 - accuracy: 0.9368 - val_loss: 0.3177 - val_accuracy: 0.8860\n",
      "Epoch 33/100\n",
      "608/610 [============================>.] - ETA: 0s - loss: 0.1538 - accuracy: 0.9401\n",
      "Epoch 00033: val_loss did not improve from 0.28548\n",
      "610/610 [==============================] - 21s 35ms/step - loss: 0.1540 - accuracy: 0.9400 - val_loss: 0.3070 - val_accuracy: 0.8926\n",
      "Epoch 34/100\n",
      "609/610 [============================>.] - ETA: 0s - loss: 0.1497 - accuracy: 0.9407\n",
      "Epoch 00034: val_loss did not improve from 0.28548\n",
      "610/610 [==============================] - 21s 34ms/step - loss: 0.1497 - accuracy: 0.9407 - val_loss: 0.3078 - val_accuracy: 0.8925\n",
      "Epoch 35/100\n",
      "609/610 [============================>.] - ETA: 0s - loss: 0.1459 - accuracy: 0.9424\n",
      "Epoch 00035: val_loss did not improve from 0.28548\n",
      "610/610 [==============================] - 21s 35ms/step - loss: 0.1459 - accuracy: 0.9424 - val_loss: 0.3204 - val_accuracy: 0.8829\n",
      "Epoch 36/100\n",
      "609/610 [============================>.] - ETA: 0s - loss: 0.1423 - accuracy: 0.9450\n",
      "Epoch 00036: val_loss did not improve from 0.28548\n",
      "610/610 [==============================] - 22s 36ms/step - loss: 0.1422 - accuracy: 0.9450 - val_loss: 0.3138 - val_accuracy: 0.8920\n",
      "Epoch 37/100\n",
      "608/610 [============================>.] - ETA: 0s - loss: 0.1386 - accuracy: 0.9457\n",
      "Epoch 00037: val_loss did not improve from 0.28548\n",
      "610/610 [==============================] - 22s 36ms/step - loss: 0.1386 - accuracy: 0.9457 - val_loss: 0.3196 - val_accuracy: 0.8928\n",
      "Epoch 00037: early stopping\n",
      "CPU times: total: 1h 39min 16s\n",
      "Wall time: 13min 15s\n"
     ]
    }
   ],
   "source": [
    "%%time\n",
    "num_epochs = 100\n",
    "num_batch_size = 64\n",
    "\n",
    "model_checkpoint = ModelCheckpoint(filepath='models/v5 (augmented).hdf5', \n",
    "                               verbose=1, save_best_only=True)\n",
    "\n",
    "early_stop = EarlyStopping(monitor='val_loss', mode='min', verbose=1, patience=15)\n",
    "\n",
    "history = model.fit(X_train, \n",
    "          y_train, \n",
    "          batch_size=num_batch_size, \n",
    "          epochs=num_epochs, \n",
    "          validation_data=(X_test, y_test), \n",
    "          callbacks=[model_checkpoint, early_stop], \n",
    "          verbose=1)"
   ]
  },
  {
   "cell_type": "markdown",
   "id": "7f29044a",
   "metadata": {},
   "source": [
    "# Test Model"
   ]
  },
  {
   "cell_type": "code",
   "execution_count": 70,
   "id": "a4c8b540",
   "metadata": {},
   "outputs": [],
   "source": [
    "model = create_cnn_model(input_shape)\n",
    "\n",
    "model.load_weights('models/v4.hdf5')"
   ]
  },
  {
   "cell_type": "code",
   "execution_count": 71,
   "id": "3030239d",
   "metadata": {},
   "outputs": [],
   "source": [
    "def test_thresholds(X, y):\n",
    "    fpr, tpr, thresholds = roc_curve(y, model.predict(X))\n",
    "    plt.figure()\n",
    "    lw = 2\n",
    "    plt.plot(\n",
    "        fpr,\n",
    "        tpr,\n",
    "        color=\"darkorange\",\n",
    "        lw=lw,\n",
    "        label=\"ROC curve (area = %0.2f)\" % auc(fpr, tpr),\n",
    "    )\n",
    "    plt.plot([0, 1], [0, 1], color=\"navy\", lw=lw, linestyle=\"--\")\n",
    "    plt.xlim([0.0, 1.0])\n",
    "    plt.ylim([0.0, 1.05])\n",
    "    plt.xlabel(\"False Positive Rate\")\n",
    "    plt.ylabel(\"True Positive Rate\")\n",
    "    plt.title(\"Receiver operating characteristic example\")\n",
    "    plt.legend(loc=\"lower right\")\n",
    "    plt.show()\n",
    "    \n",
    "    possible_thresholds = np.linspace(0, 1, num=20)\n",
    "    df_metrics = pd.DataFrame()\n",
    "    for threshold in possible_thresholds:\n",
    "        y_pred = (model.predict(X) > threshold).astype(\"int32\")\n",
    "        df_metrics = df_metrics.append({\n",
    "            'threshold': threshold,\n",
    "            'accuracy': accuracy_score(y, y_pred),\n",
    "            'f1_score': f1_score(y, y_pred)\n",
    "        }, ignore_index=True)\n",
    "        \n",
    "    sns.lineplot(data=df_metrics.set_index('threshold'), palette=\"tab10\", linewidth=2.5)\n",
    "    \n",
    "    return df_metrics"
   ]
  },
  {
   "cell_type": "code",
   "execution_count": 74,
   "id": "44ad7e5e",
   "metadata": {},
   "outputs": [
    {
     "name": "stdout",
     "output_type": "stream",
     "text": [
      "Accuracy: 0.8957777428975043\n",
      "f1 score: 0.7205387205387205\n"
     ]
    },
    {
     "data": {
      "text/plain": [
       "array([[4851,  320],\n",
       "       [ 344,  856]], dtype=int64)"
      ]
     },
     "execution_count": 74,
     "metadata": {},
     "output_type": "execute_result"
    }
   ],
   "source": [
    "y_pred = (model.predict(X_test) > 0.38).astype(\"int32\")\n",
    "print(f'Accuracy: {accuracy_score(y_test, y_pred)}')\n",
    "print(f'f1 score: {f1_score(y_test, y_pred)}')\n",
    "confusion_matrix(y_test, y_pred)"
   ]
  },
  {
   "cell_type": "code",
   "execution_count": 75,
   "id": "ff63a064",
   "metadata": {},
   "outputs": [
    {
     "data": {
      "image/png": "[encoded data removed]",
      "text/plain": [
       "<Figure size 432x288 with 1 Axes>"
      ]
     },
     "metadata": {
      "needs_background": "light"
     },
     "output_type": "display_data"
    },
    {
     "data": {
      "image/png": "[encoded data removed]",
      "text/plain": [
       "<Figure size 432x288 with 1 Axes>"
      ]
     },
     "metadata": {
      "needs_background": "light"
     },
     "output_type": "display_data"
    }
   ],
   "source": [
    "df_metrics = test_thresholds(X_test, y_test)"
   ]
  },
  {
   "cell_type": "code",
   "execution_count": null,
   "id": "abe1c226",
   "metadata": {},
   "outputs": [],
   "source": []
  }
 ],
 "metadata": {
  "kernelspec": {
   "display_name": "Python 3 (ipykernel)",
   "language": "python",
   "name": "python3"
  },
  "language_info": {
   "codemirror_mode": {
    "name": "ipython",
    "version": 3
   },
   "file_extension": ".py",
   "mimetype": "text/x-python",
   "name": "python",
   "nbconvert_exporter": "python",
   "pygments_lexer": "ipython3",
   "version": "3.8.12"
  }
 },
 "nbformat": 4,
 "nbformat_minor": 5
}
