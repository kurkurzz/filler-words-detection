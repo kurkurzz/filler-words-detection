{
 "cells": [
  {
   "cell_type": "markdown",
   "id": "e421f030",
   "metadata": {},
   "source": [
    "# Accuracy 81%"
   ]
  },
  {
   "cell_type": "code",
   "execution_count": 1,
   "id": "4243c792",
   "metadata": {},
   "outputs": [
    {
     "name": "stdout",
     "output_type": "stream",
     "text": [
      "tensorflow version: 2.7.0\n"
     ]
    }
   ],
   "source": [
    "import os\n",
    "import time\n",
    "import shutil\n",
    "import librosa\n",
    "import pandas as pd\n",
    "import numpy as np\n",
    "from tqdm.notebook import tqdm_notebook\n",
    "from sklearn.model_selection import train_test_split\n",
    "from sklearn.metrics import confusion_matrix, classification_report, accuracy_score, f1_score, roc_curve\\\n",
    ",auc\n",
    "import matplotlib.pyplot as plt\n",
    "import seaborn as sns\n",
    "\n",
    "\n",
    "import tensorflow as tf\n",
    "print(f'tensorflow version: {tf.__version__}')\n",
    "from tensorflow.keras.models import Sequential\n",
    "from tensorflow.keras.layers import Input, Dense, Dropout, Conv2D, MaxPooling2D, BatchNormalization, Flatten\n",
    "from tensorflow.keras.optimizers import Adam\n",
    "from sklearn import metrics\n",
    "from tensorflow.keras.callbacks import ModelCheckpoint, TensorBoard, EarlyStopping"
   ]
  },
  {
   "cell_type": "code",
   "execution_count": 2,
   "id": "38c9717e",
   "metadata": {},
   "outputs": [],
   "source": [
    "tqdm_notebook.pandas()"
   ]
  },
  {
   "cell_type": "markdown",
   "id": "2d85ad7c",
   "metadata": {},
   "source": [
    "## Import files and labels"
   ]
  },
  {
   "cell_type": "code",
   "execution_count": 3,
   "id": "6951efa4",
   "metadata": {},
   "outputs": [],
   "source": [
    "train_df = pd.DataFrame(columns=['full_path', 'filename', 'mfcc', 'is_train', 'is_augmented', 'um_label'])\n",
    "test_df = pd.DataFrame(columns=['full_path', 'filename', 'mfcc', 'is_train', 'is_augmented', 'um_label'])"
   ]
  },
  {
   "cell_type": "code",
   "execution_count": 4,
   "id": "53b48fbf",
   "metadata": {},
   "outputs": [],
   "source": [
    "path = 'dataset_clips'\n",
    "for filename in os.listdir(f'{path}/train/true/'):\n",
    "    new_row = {'full_path': f'{path}/train/true/', 'filename': filename, 'is_train': True, 'is_augmented': False, 'um_label': 1}\n",
    "    train_df = train_df.append(new_row, ignore_index = True)\n",
    "\n",
    "for filename in os.listdir(f'{path}/train/self_collect_true/'):\n",
    "    new_row = {'full_path': f'{path}/train/self_collect_true/', 'filename': filename, 'is_train': True, 'is_augmented': True, 'um_label': 1}\n",
    "    train_df = train_df.append(new_row, ignore_index = True)\n",
    "    \n",
    "for filename in os.listdir(f'{path}/train/false/'):\n",
    "    new_row = {'full_path': f'{path}/train/false/', 'filename': filename, 'is_train': True, 'is_augmented': False, 'um_label': 0}\n",
    "    train_df = train_df.append(new_row, ignore_index = True)"
   ]
  },
  {
   "cell_type": "code",
   "execution_count": 5,
   "id": "e9042344",
   "metadata": {},
   "outputs": [],
   "source": [
    "path = 'dataset_clips'\n",
    "for filename in os.listdir(f'{path}/test/true/'):\n",
    "    new_row = {'full_path': f'{path}/test/true/', 'filename': filename, 'is_train': False, 'is_augmented': False, 'um_label': 1}\n",
    "    test_df = test_df.append(new_row, ignore_index = True)\n",
    "\n",
    "for filename in os.listdir(f'{path}/test/false/'):\n",
    "    new_row = {'full_path': f'{path}/test/false/', 'filename': filename, 'is_train': False, 'is_augmented': False, 'um_label': 0}\n",
    "    test_df = test_df.append(new_row, ignore_index = True)"
   ]
  },
  {
   "cell_type": "markdown",
   "id": "d4a46f3b",
   "metadata": {},
   "source": [
    "## Undersampling"
   ]
  },
  {
   "cell_type": "code",
   "execution_count": 25,
   "id": "8e77258c",
   "metadata": {},
   "outputs": [],
   "source": [
    "def undersampling_class(df, label_column, to_reduce_class, sample_number):\n",
    "    true_df = df[df[label_column]==1]\n",
    "    false_df = df[df[label_column]==0]\n",
    "    \n",
    "    if to_reduce_class == 0:\n",
    "        false_df = false_df.sample(n=sample_number)\n",
    "    else:\n",
    "        true_df = true_df.sample(n=sample_number)\n",
    "    \n",
    "    return pd.concat([true_df, false_df], axis=0)"
   ]
  },
  {
   "cell_type": "code",
   "execution_count": 27,
   "id": "ef0cee80",
   "metadata": {},
   "outputs": [],
   "source": [
    "train_df = undersampling_class(train_df, 'um_label', 0, 6_000)\n",
    "test_df = undersampling_class(test_df, 'um_label', 0, 1500)"
   ]
  },
  {
   "cell_type": "code",
   "execution_count": 28,
   "id": "7e5b8cc6",
   "metadata": {},
   "outputs": [
    {
     "data": {
      "text/plain": [
       "um_label\n",
       "0           6000\n",
       "1           5034\n",
       "dtype: int64"
      ]
     },
     "execution_count": 28,
     "metadata": {},
     "output_type": "execute_result"
    }
   ],
   "source": [
    "train_df.value_counts(['um_label'])"
   ]
  },
  {
   "cell_type": "code",
   "execution_count": 29,
   "id": "f68a85e4",
   "metadata": {},
   "outputs": [
    {
     "data": {
      "text/plain": [
       "um_label\n",
       "0           1500\n",
       "1           1200\n",
       "dtype: int64"
      ]
     },
     "execution_count": 29,
     "metadata": {},
     "output_type": "execute_result"
    }
   ],
   "source": [
    "test_df.value_counts(['um_label'])"
   ]
  },
  {
   "cell_type": "markdown",
   "id": "3d65b8e4",
   "metadata": {},
   "source": [
    "## Convert to MFCC"
   ]
  },
  {
   "cell_type": "code",
   "execution_count": 31,
   "id": "060bcdef",
   "metadata": {},
   "outputs": [],
   "source": [
    "def extract_mfcc(df):\n",
    "    try:\n",
    "        folder_name = 'clips'\n",
    "        audio, sr = librosa.load(f'{df[\"full_path\"]}{df[\"filename\"]}', sr=16000)\n",
    "        mfcc = librosa.feature.mfcc(audio, sr, n_mfcc=13)\n",
    "        return mfcc\n",
    "    except:\n",
    "        return None"
   ]
  },
  {
   "cell_type": "code",
   "execution_count": 32,
   "id": "1bef26db",
   "metadata": {},
   "outputs": [
    {
     "data": {
      "application/vnd.jupyter.widget-view+json": {
       "model_id": "e1991e72bce343a4894486321905d87a",
       "version_major": 2,
       "version_minor": 0
      },
      "text/plain": [
       "  0%|          | 0/11034 [00:00<?, ?it/s]"
      ]
     },
     "metadata": {},
     "output_type": "display_data"
    },
    {
     "data": {
      "application/vnd.jupyter.widget-view+json": {
       "model_id": "609a49316a5c46268e6e8f835014882e",
       "version_major": 2,
       "version_minor": 0
      },
      "text/plain": [
       "  0%|          | 0/2700 [00:00<?, ?it/s]"
      ]
     },
     "metadata": {},
     "output_type": "display_data"
    },
    {
     "name": "stdout",
     "output_type": "stream",
     "text": [
      "CPU times: total: 2min 21s\n",
      "Wall time: 2min 45s\n"
     ]
    }
   ],
   "source": [
    "%%time\n",
    "train_df['mfcc'] = train_df.progress_apply(extract_mfcc, axis=1)\n",
    "test_df['mfcc'] = test_df.progress_apply(extract_mfcc, axis=1)"
   ]
  },
  {
   "cell_type": "code",
   "execution_count": 33,
   "id": "98a0da87",
   "metadata": {},
   "outputs": [],
   "source": [
    "X_train = np.stack(train_df['mfcc'].to_numpy())\n",
    "y_train = train_df['um_label'].to_numpy().reshape(-1,1).astype('float32')\n",
    "\n",
    "X_test = np.stack(test_df['mfcc'].to_numpy())\n",
    "y_test = test_df['um_label'].to_numpy().reshape(-1,1).astype('float32')"
   ]
  },
  {
   "cell_type": "code",
   "execution_count": 34,
   "id": "90fab8d8",
   "metadata": {},
   "outputs": [
    {
     "data": {
      "text/plain": [
       "(13, 94, 1)"
      ]
     },
     "execution_count": 34,
     "metadata": {},
     "output_type": "execute_result"
    }
   ],
   "source": [
    "input_shape = (X_train.shape[1], X_train.shape[2], 1)\n",
    "input_shape"
   ]
  },
  {
   "cell_type": "markdown",
   "id": "24932daa",
   "metadata": {},
   "source": [
    "# Train model"
   ]
  },
  {
   "cell_type": "code",
   "execution_count": 35,
   "id": "cca48330",
   "metadata": {},
   "outputs": [],
   "source": [
    "def create_cnn_model(input_shape):\n",
    "    model = Sequential()\n",
    "\n",
    "    model.add(Conv2D(32, (3,3), activation='relu', input_shape=input_shape))\n",
    "    model.add(MaxPooling2D((3,3), strides=(2, 2), padding='same'))\n",
    "    model.add(BatchNormalization())\n",
    "\n",
    "    model.add(Conv2D(64, (3,3), activation='relu', input_shape=input_shape))\n",
    "    model.add(MaxPooling2D((3,3), strides=(2, 2), padding='same'))\n",
    "    model.add(BatchNormalization())\n",
    "\n",
    "    model.add(Conv2D(128, (2,2), activation='relu', input_shape=input_shape))\n",
    "    model.add(MaxPooling2D((2,2), strides=(2, 2), padding='same'))\n",
    "    model.add(BatchNormalization())\n",
    "\n",
    "    model.add(Flatten())\n",
    "    model.add(Dense(64, activation='relu'))\n",
    "    model.add(Dropout(0.5))\n",
    "    \n",
    "    model.add(Dense(64, activation='relu'))\n",
    "    model.add(Dropout(0.5))\n",
    "\n",
    "    model.add(Dense(1, activation='sigmoid'))\n",
    "    \n",
    "    return model"
   ]
  },
  {
   "cell_type": "code",
   "execution_count": 36,
   "id": "744b11e6",
   "metadata": {},
   "outputs": [],
   "source": [
    "model = create_cnn_model(input_shape)"
   ]
  },
  {
   "cell_type": "code",
   "execution_count": 37,
   "id": "720342dd",
   "metadata": {},
   "outputs": [],
   "source": [
    "adam_optimizer = Adam(learning_rate=0.00005)\n",
    "\n",
    "model.compile(loss='binary_crossentropy', metrics=['accuracy'], optimizer=adam_optimizer)"
   ]
  },
  {
   "cell_type": "code",
   "execution_count": 38,
   "id": "9e12e85f",
   "metadata": {},
   "outputs": [
    {
     "name": "stdout",
     "output_type": "stream",
     "text": [
      "Epoch 1/100\n",
      "172/173 [============================>.] - ETA: 0s - loss: 0.8978 - accuracy: 0.5172\n",
      "Epoch 00001: val_loss improved from inf to 0.68922, saving model to models\\v7 (with_self_collected_data_undersampled).hdf5\n",
      "173/173 [==============================] - 7s 36ms/step - loss: 0.8975 - accuracy: 0.5173 - val_loss: 0.6892 - val_accuracy: 0.5430\n",
      "Epoch 2/100\n",
      "171/173 [============================>.] - ETA: 0s - loss: 0.7909 - accuracy: 0.5449\n",
      "Epoch 00002: val_loss improved from 0.68922 to 0.66245, saving model to models\\v7 (with_self_collected_data_undersampled).hdf5\n",
      "173/173 [==============================] - 6s 34ms/step - loss: 0.7907 - accuracy: 0.5445 - val_loss: 0.6624 - val_accuracy: 0.6026\n",
      "Epoch 3/100\n",
      "171/173 [============================>.] - ETA: 0s - loss: 0.7412 - accuracy: 0.5637\n",
      "Epoch 00003: val_loss improved from 0.66245 to 0.64630, saving model to models\\v7 (with_self_collected_data_undersampled).hdf5\n",
      "173/173 [==============================] - 6s 34ms/step - loss: 0.7406 - accuracy: 0.5643 - val_loss: 0.6463 - val_accuracy: 0.6344\n",
      "Epoch 4/100\n",
      "171/173 [============================>.] - ETA: 0s - loss: 0.7153 - accuracy: 0.5797\n",
      "Epoch 00004: val_loss improved from 0.64630 to 0.63566, saving model to models\\v7 (with_self_collected_data_undersampled).hdf5\n",
      "173/173 [==============================] - 6s 34ms/step - loss: 0.7157 - accuracy: 0.5789 - val_loss: 0.6357 - val_accuracy: 0.6430\n",
      "Epoch 5/100\n",
      "173/173 [==============================] - ETA: 0s - loss: 0.6854 - accuracy: 0.6027\n",
      "Epoch 00005: val_loss improved from 0.63566 to 0.62455, saving model to models\\v7 (with_self_collected_data_undersampled).hdf5\n",
      "173/173 [==============================] - 6s 36ms/step - loss: 0.6854 - accuracy: 0.6027 - val_loss: 0.6245 - val_accuracy: 0.6667\n",
      "Epoch 6/100\n",
      "173/173 [==============================] - ETA: 0s - loss: 0.6704 - accuracy: 0.6136\n",
      "Epoch 00006: val_loss improved from 0.62455 to 0.61417, saving model to models\\v7 (with_self_collected_data_undersampled).hdf5\n",
      "173/173 [==============================] - 6s 36ms/step - loss: 0.6704 - accuracy: 0.6136 - val_loss: 0.6142 - val_accuracy: 0.6678\n",
      "Epoch 7/100\n",
      "171/173 [============================>.] - ETA: 0s - loss: 0.6581 - accuracy: 0.6206\n",
      "Epoch 00007: val_loss improved from 0.61417 to 0.60459, saving model to models\\v7 (with_self_collected_data_undersampled).hdf5\n",
      "173/173 [==============================] - 6s 36ms/step - loss: 0.6581 - accuracy: 0.6209 - val_loss: 0.6046 - val_accuracy: 0.6837\n",
      "Epoch 8/100\n",
      "171/173 [============================>.] - ETA: 0s - loss: 0.6414 - accuracy: 0.6435\n",
      "Epoch 00008: val_loss improved from 0.60459 to 0.59314, saving model to models\\v7 (with_self_collected_data_undersampled).hdf5\n",
      "173/173 [==============================] - 6s 34ms/step - loss: 0.6415 - accuracy: 0.6432 - val_loss: 0.5931 - val_accuracy: 0.6881\n",
      "Epoch 9/100\n",
      "171/173 [============================>.] - ETA: 0s - loss: 0.6251 - accuracy: 0.6538\n",
      "Epoch 00009: val_loss improved from 0.59314 to 0.58087, saving model to models\\v7 (with_self_collected_data_undersampled).hdf5\n",
      "173/173 [==============================] - 6s 34ms/step - loss: 0.6243 - accuracy: 0.6550 - val_loss: 0.5809 - val_accuracy: 0.6922\n",
      "Epoch 10/100\n",
      "171/173 [============================>.] - ETA: 0s - loss: 0.6169 - accuracy: 0.6631\n",
      "Epoch 00010: val_loss improved from 0.58087 to 0.56970, saving model to models\\v7 (with_self_collected_data_undersampled).hdf5\n",
      "173/173 [==============================] - 6s 34ms/step - loss: 0.6163 - accuracy: 0.6635 - val_loss: 0.5697 - val_accuracy: 0.7037\n",
      "Epoch 11/100\n",
      "171/173 [============================>.] - ETA: 0s - loss: 0.5986 - accuracy: 0.6805\n",
      "Epoch 00011: val_loss improved from 0.56970 to 0.55785, saving model to models\\v7 (with_self_collected_data_undersampled).hdf5\n",
      "173/173 [==============================] - 6s 34ms/step - loss: 0.5986 - accuracy: 0.6802 - val_loss: 0.5579 - val_accuracy: 0.7130\n",
      "Epoch 12/100\n",
      "171/173 [============================>.] - ETA: 0s - loss: 0.5836 - accuracy: 0.6931\n",
      "Epoch 00012: val_loss improved from 0.55785 to 0.54622, saving model to models\\v7 (with_self_collected_data_undersampled).hdf5\n",
      "173/173 [==============================] - 6s 34ms/step - loss: 0.5838 - accuracy: 0.6931 - val_loss: 0.5462 - val_accuracy: 0.7156\n",
      "Epoch 13/100\n",
      "171/173 [============================>.] - ETA: 0s - loss: 0.5732 - accuracy: 0.7005\n",
      "Epoch 00013: val_loss improved from 0.54622 to 0.54000, saving model to models\\v7 (with_self_collected_data_undersampled).hdf5\n",
      "173/173 [==============================] - 6s 34ms/step - loss: 0.5735 - accuracy: 0.6999 - val_loss: 0.5400 - val_accuracy: 0.7237\n",
      "Epoch 14/100\n",
      "171/173 [============================>.] - ETA: 0s - loss: 0.5609 - accuracy: 0.7067\n",
      "Epoch 00014: val_loss improved from 0.54000 to 0.53261, saving model to models\\v7 (with_self_collected_data_undersampled).hdf5\n",
      "173/173 [==============================] - 6s 34ms/step - loss: 0.5609 - accuracy: 0.7068 - val_loss: 0.5326 - val_accuracy: 0.7337\n",
      "Epoch 15/100\n",
      "171/173 [============================>.] - ETA: 0s - loss: 0.5407 - accuracy: 0.7272\n",
      "Epoch 00015: val_loss improved from 0.53261 to 0.52126, saving model to models\\v7 (with_self_collected_data_undersampled).hdf5\n",
      "173/173 [==============================] - 6s 34ms/step - loss: 0.5404 - accuracy: 0.7273 - val_loss: 0.5213 - val_accuracy: 0.7407\n",
      "Epoch 16/100\n",
      "171/173 [============================>.] - ETA: 0s - loss: 0.5318 - accuracy: 0.7392\n",
      "Epoch 00016: val_loss improved from 0.52126 to 0.50996, saving model to models\\v7 (with_self_collected_data_undersampled).hdf5\n",
      "173/173 [==============================] - 6s 34ms/step - loss: 0.5327 - accuracy: 0.7388 - val_loss: 0.5100 - val_accuracy: 0.7500\n",
      "Epoch 17/100\n",
      "172/173 [============================>.] - ETA: 0s - loss: 0.5194 - accuracy: 0.7399\n",
      "Epoch 00017: val_loss improved from 0.50996 to 0.50650, saving model to models\\v7 (with_self_collected_data_undersampled).hdf5\n",
      "173/173 [==============================] - 6s 35ms/step - loss: 0.5194 - accuracy: 0.7400 - val_loss: 0.5065 - val_accuracy: 0.7563\n",
      "Epoch 18/100\n",
      "172/173 [============================>.] - ETA: 0s - loss: 0.5124 - accuracy: 0.7461\n",
      "Epoch 00018: val_loss improved from 0.50650 to 0.49993, saving model to models\\v7 (with_self_collected_data_undersampled).hdf5\n",
      "173/173 [==============================] - 6s 38ms/step - loss: 0.5122 - accuracy: 0.7465 - val_loss: 0.4999 - val_accuracy: 0.7530\n",
      "Epoch 19/100\n",
      "171/173 [============================>.] - ETA: 0s - loss: 0.5034 - accuracy: 0.7522\n",
      "Epoch 00019: val_loss improved from 0.49993 to 0.49207, saving model to models\\v7 (with_self_collected_data_undersampled).hdf5\n",
      "173/173 [==============================] - 6s 36ms/step - loss: 0.5028 - accuracy: 0.7529 - val_loss: 0.4921 - val_accuracy: 0.7619\n",
      "Epoch 20/100\n",
      "172/173 [============================>.] - ETA: 0s - loss: 0.4904 - accuracy: 0.7624\n",
      "Epoch 00020: val_loss improved from 0.49207 to 0.48535, saving model to models\\v7 (with_self_collected_data_undersampled).hdf5\n",
      "173/173 [==============================] - 6s 36ms/step - loss: 0.4902 - accuracy: 0.7626 - val_loss: 0.4854 - val_accuracy: 0.7707\n",
      "Epoch 21/100\n",
      "171/173 [============================>.] - ETA: 0s - loss: 0.4765 - accuracy: 0.7767\n",
      "Epoch 00021: val_loss improved from 0.48535 to 0.48150, saving model to models\\v7 (with_self_collected_data_undersampled).hdf5\n",
      "173/173 [==============================] - 6s 35ms/step - loss: 0.4768 - accuracy: 0.7766 - val_loss: 0.4815 - val_accuracy: 0.7696\n",
      "Epoch 22/100\n",
      "171/173 [============================>.] - ETA: 0s - loss: 0.4679 - accuracy: 0.7785\n",
      "Epoch 00022: val_loss improved from 0.48150 to 0.47765, saving model to models\\v7 (with_self_collected_data_undersampled).hdf5\n",
      "173/173 [==============================] - 6s 36ms/step - loss: 0.4693 - accuracy: 0.7779 - val_loss: 0.4776 - val_accuracy: 0.7781\n",
      "Epoch 23/100\n",
      "172/173 [============================>.] - ETA: 0s - loss: 0.4590 - accuracy: 0.7844\n",
      "Epoch 00023: val_loss improved from 0.47765 to 0.46975, saving model to models\\v7 (with_self_collected_data_undersampled).hdf5\n",
      "173/173 [==============================] - 6s 35ms/step - loss: 0.4591 - accuracy: 0.7846 - val_loss: 0.4698 - val_accuracy: 0.7848\n"
     ]
    },
    {
     "name": "stdout",
     "output_type": "stream",
     "text": [
      "Epoch 24/100\n",
      "171/173 [============================>.] - ETA: 0s - loss: 0.4509 - accuracy: 0.7928\n",
      "Epoch 00024: val_loss improved from 0.46975 to 0.46507, saving model to models\\v7 (with_self_collected_data_undersampled).hdf5\n",
      "173/173 [==============================] - 6s 35ms/step - loss: 0.4510 - accuracy: 0.7925 - val_loss: 0.4651 - val_accuracy: 0.7859\n",
      "Epoch 25/100\n",
      "171/173 [============================>.] - ETA: 0s - loss: 0.4441 - accuracy: 0.7945\n",
      "Epoch 00025: val_loss improved from 0.46507 to 0.46330, saving model to models\\v7 (with_self_collected_data_undersampled).hdf5\n",
      "173/173 [==============================] - 6s 37ms/step - loss: 0.4432 - accuracy: 0.7949 - val_loss: 0.4633 - val_accuracy: 0.7896\n",
      "Epoch 26/100\n",
      "171/173 [============================>.] - ETA: 0s - loss: 0.4293 - accuracy: 0.8008\n",
      "Epoch 00026: val_loss improved from 0.46330 to 0.46041, saving model to models\\v7 (with_self_collected_data_undersampled).hdf5\n",
      "173/173 [==============================] - 6s 37ms/step - loss: 0.4291 - accuracy: 0.8012 - val_loss: 0.4604 - val_accuracy: 0.7911\n",
      "Epoch 27/100\n",
      "171/173 [============================>.] - ETA: 0s - loss: 0.4193 - accuracy: 0.8106\n",
      "Epoch 00027: val_loss did not improve from 0.46041\n",
      "173/173 [==============================] - 6s 36ms/step - loss: 0.4187 - accuracy: 0.8106 - val_loss: 0.4667 - val_accuracy: 0.7885\n",
      "Epoch 28/100\n",
      "172/173 [============================>.] - ETA: 0s - loss: 0.4120 - accuracy: 0.8138\n",
      "Epoch 00028: val_loss improved from 0.46041 to 0.45065, saving model to models\\v7 (with_self_collected_data_undersampled).hdf5\n",
      "173/173 [==============================] - 6s 37ms/step - loss: 0.4122 - accuracy: 0.8138 - val_loss: 0.4507 - val_accuracy: 0.8000\n",
      "Epoch 29/100\n",
      "171/173 [============================>.] - ETA: 0s - loss: 0.4039 - accuracy: 0.8189\n",
      "Epoch 00029: val_loss did not improve from 0.45065\n",
      "173/173 [==============================] - 6s 36ms/step - loss: 0.4031 - accuracy: 0.8196 - val_loss: 0.4535 - val_accuracy: 0.7956\n",
      "Epoch 30/100\n",
      "173/173 [==============================] - ETA: 0s - loss: 0.4022 - accuracy: 0.8184\n",
      "Epoch 00030: val_loss improved from 0.45065 to 0.45034, saving model to models\\v7 (with_self_collected_data_undersampled).hdf5\n",
      "173/173 [==============================] - 6s 36ms/step - loss: 0.4022 - accuracy: 0.8184 - val_loss: 0.4503 - val_accuracy: 0.8019\n",
      "Epoch 31/100\n",
      "173/173 [==============================] - ETA: 0s - loss: 0.3873 - accuracy: 0.8281\n",
      "Epoch 00031: val_loss improved from 0.45034 to 0.44897, saving model to models\\v7 (with_self_collected_data_undersampled).hdf5\n",
      "173/173 [==============================] - 6s 36ms/step - loss: 0.3873 - accuracy: 0.8281 - val_loss: 0.4490 - val_accuracy: 0.7956\n",
      "Epoch 32/100\n",
      "171/173 [============================>.] - ETA: 0s - loss: 0.3820 - accuracy: 0.8294\n",
      "Epoch 00032: val_loss improved from 0.44897 to 0.44777, saving model to models\\v7 (with_self_collected_data_undersampled).hdf5\n",
      "173/173 [==============================] - 6s 35ms/step - loss: 0.3816 - accuracy: 0.8298 - val_loss: 0.4478 - val_accuracy: 0.7970\n",
      "Epoch 33/100\n",
      "171/173 [============================>.] - ETA: 0s - loss: 0.3720 - accuracy: 0.8387\n",
      "Epoch 00033: val_loss did not improve from 0.44777\n",
      "173/173 [==============================] - 6s 36ms/step - loss: 0.3723 - accuracy: 0.8386 - val_loss: 0.4488 - val_accuracy: 0.8041\n",
      "Epoch 34/100\n",
      "171/173 [============================>.] - ETA: 0s - loss: 0.3692 - accuracy: 0.8363\n",
      "Epoch 00034: val_loss did not improve from 0.44777\n",
      "173/173 [==============================] - 6s 34ms/step - loss: 0.3689 - accuracy: 0.8368 - val_loss: 0.4503 - val_accuracy: 0.8011\n",
      "Epoch 35/100\n",
      "172/173 [============================>.] - ETA: 0s - loss: 0.3606 - accuracy: 0.8419\n",
      "Epoch 00035: val_loss improved from 0.44777 to 0.44519, saving model to models\\v7 (with_self_collected_data_undersampled).hdf5\n",
      "173/173 [==============================] - 6s 35ms/step - loss: 0.3603 - accuracy: 0.8421 - val_loss: 0.4452 - val_accuracy: 0.8015\n",
      "Epoch 36/100\n",
      "172/173 [============================>.] - ETA: 0s - loss: 0.3443 - accuracy: 0.8519\n",
      "Epoch 00036: val_loss did not improve from 0.44519\n",
      "173/173 [==============================] - 6s 34ms/step - loss: 0.3440 - accuracy: 0.8523 - val_loss: 0.4506 - val_accuracy: 0.8074\n",
      "Epoch 37/100\n",
      "173/173 [==============================] - ETA: 0s - loss: 0.3465 - accuracy: 0.8467\n",
      "Epoch 00037: val_loss did not improve from 0.44519\n",
      "173/173 [==============================] - 6s 37ms/step - loss: 0.3465 - accuracy: 0.8467 - val_loss: 0.4466 - val_accuracy: 0.8052\n",
      "Epoch 38/100\n",
      "172/173 [============================>.] - ETA: 0s - loss: 0.3387 - accuracy: 0.8512\n",
      "Epoch 00038: val_loss did not improve from 0.44519\n",
      "173/173 [==============================] - 6s 36ms/step - loss: 0.3387 - accuracy: 0.8513 - val_loss: 0.4485 - val_accuracy: 0.8015\n",
      "Epoch 39/100\n",
      "171/173 [============================>.] - ETA: 0s - loss: 0.3269 - accuracy: 0.8607\n",
      "Epoch 00039: val_loss did not improve from 0.44519\n",
      "173/173 [==============================] - 6s 35ms/step - loss: 0.3276 - accuracy: 0.8604 - val_loss: 0.4473 - val_accuracy: 0.8052\n",
      "Epoch 40/100\n",
      "172/173 [============================>.] - ETA: 0s - loss: 0.3237 - accuracy: 0.8602\n",
      "Epoch 00040: val_loss did not improve from 0.44519\n",
      "173/173 [==============================] - 6s 37ms/step - loss: 0.3237 - accuracy: 0.8602 - val_loss: 0.4493 - val_accuracy: 0.8052\n",
      "Epoch 41/100\n",
      "171/173 [============================>.] - ETA: 0s - loss: 0.3151 - accuracy: 0.8671\n",
      "Epoch 00041: val_loss did not improve from 0.44519\n",
      "173/173 [==============================] - 6s 35ms/step - loss: 0.3151 - accuracy: 0.8673 - val_loss: 0.4611 - val_accuracy: 0.7993\n",
      "Epoch 42/100\n",
      "171/173 [============================>.] - ETA: 0s - loss: 0.3073 - accuracy: 0.8697\n",
      "Epoch 00042: val_loss did not improve from 0.44519\n",
      "173/173 [==============================] - 6s 35ms/step - loss: 0.3085 - accuracy: 0.8692 - val_loss: 0.4614 - val_accuracy: 0.8026\n",
      "Epoch 43/100\n",
      "171/173 [============================>.] - ETA: 0s - loss: 0.3002 - accuracy: 0.8723\n",
      "Epoch 00043: val_loss did not improve from 0.44519\n",
      "173/173 [==============================] - 6s 35ms/step - loss: 0.3009 - accuracy: 0.8719 - val_loss: 0.4544 - val_accuracy: 0.8037\n",
      "Epoch 44/100\n",
      "171/173 [============================>.] - ETA: 0s - loss: 0.3045 - accuracy: 0.8734\n",
      "Epoch 00044: val_loss did not improve from 0.44519\n",
      "173/173 [==============================] - 6s 35ms/step - loss: 0.3044 - accuracy: 0.8734 - val_loss: 0.4677 - val_accuracy: 0.8011\n",
      "Epoch 45/100\n",
      "173/173 [==============================] - ETA: 0s - loss: 0.2831 - accuracy: 0.8823\n",
      "Epoch 00045: val_loss did not improve from 0.44519\n",
      "173/173 [==============================] - 6s 34ms/step - loss: 0.2831 - accuracy: 0.8823 - val_loss: 0.4623 - val_accuracy: 0.8063\n",
      "Epoch 46/100\n",
      "173/173 [==============================] - ETA: 0s - loss: 0.2818 - accuracy: 0.8801\n",
      "Epoch 00046: val_loss did not improve from 0.44519\n",
      "173/173 [==============================] - 6s 35ms/step - loss: 0.2818 - accuracy: 0.8801 - val_loss: 0.4658 - val_accuracy: 0.8019\n",
      "Epoch 47/100\n",
      "171/173 [============================>.] - ETA: 0s - loss: 0.2795 - accuracy: 0.8813\n",
      "Epoch 00047: val_loss did not improve from 0.44519\n",
      "173/173 [==============================] - 6s 36ms/step - loss: 0.2794 - accuracy: 0.8811 - val_loss: 0.4657 - val_accuracy: 0.8026\n",
      "Epoch 48/100\n",
      "173/173 [==============================] - ETA: 0s - loss: 0.2609 - accuracy: 0.8919\n",
      "Epoch 00048: val_loss did not improve from 0.44519\n",
      "173/173 [==============================] - 6s 37ms/step - loss: 0.2609 - accuracy: 0.8919 - val_loss: 0.4802 - val_accuracy: 0.7993\n",
      "Epoch 49/100\n",
      "171/173 [============================>.] - ETA: 0s - loss: 0.2680 - accuracy: 0.8890\n",
      "Epoch 00049: val_loss did not improve from 0.44519\n",
      "173/173 [==============================] - 6s 36ms/step - loss: 0.2675 - accuracy: 0.8892 - val_loss: 0.4756 - val_accuracy: 0.8067\n",
      "Epoch 50/100\n",
      "171/173 [============================>.] - ETA: 0s - loss: 0.2565 - accuracy: 0.8945\n",
      "Epoch 00050: val_loss did not improve from 0.44519\n",
      "173/173 [==============================] - 6s 36ms/step - loss: 0.2563 - accuracy: 0.8945 - val_loss: 0.4865 - val_accuracy: 0.8063\n"
     ]
    },
    {
     "name": "stdout",
     "output_type": "stream",
     "text": [
      "Epoch 00050: early stopping\n",
      "CPU times: total: 37min 58s\n",
      "Wall time: 5min 6s\n"
     ]
    }
   ],
   "source": [
    "%%time\n",
    "num_epochs = 100\n",
    "num_batch_size = 64\n",
    "\n",
    "model_checkpoint = ModelCheckpoint(filepath='models/v7 (with_self_collected_data_undersampled).hdf5', \n",
    "                               verbose=1, save_best_only=True)\n",
    "\n",
    "early_stop = EarlyStopping(monitor='val_loss', mode='min', verbose=1, patience=15)\n",
    "\n",
    "history = model.fit(X_train, \n",
    "          y_train, \n",
    "          batch_size=num_batch_size, \n",
    "          epochs=num_epochs, \n",
    "          validation_data=(X_test, y_test), \n",
    "          callbacks=[model_checkpoint, early_stop], \n",
    "          verbose=1)"
   ]
  },
  {
   "cell_type": "markdown",
   "id": "7f29044a",
   "metadata": {},
   "source": [
    "# Test Model"
   ]
  },
  {
   "cell_type": "code",
   "execution_count": 17,
   "id": "a4c8b540",
   "metadata": {},
   "outputs": [],
   "source": [
    "model = create_cnn_model(input_shape)\n",
    "\n",
    "model.load_weights('models/v7 (with_self_collected_data_undersampled).hdf5')"
   ]
  },
  {
   "cell_type": "code",
   "execution_count": 39,
   "id": "3030239d",
   "metadata": {},
   "outputs": [],
   "source": [
    "def test_thresholds(X, y):\n",
    "    fpr, tpr, thresholds = roc_curve(y, model.predict(X))\n",
    "    plt.figure()\n",
    "    lw = 2\n",
    "    plt.plot(\n",
    "        fpr,\n",
    "        tpr,\n",
    "        color=\"darkorange\",\n",
    "        lw=lw,\n",
    "        label=\"ROC curve (area = %0.2f)\" % auc(fpr, tpr),\n",
    "    )\n",
    "    plt.plot([0, 1], [0, 1], color=\"navy\", lw=lw, linestyle=\"--\")\n",
    "    plt.xlim([0.0, 1.0])\n",
    "    plt.ylim([0.0, 1.05])\n",
    "    plt.xlabel(\"False Positive Rate\")\n",
    "    plt.ylabel(\"True Positive Rate\")\n",
    "    plt.title(\"Receiver operating characteristic example\")\n",
    "    plt.legend(loc=\"lower right\")\n",
    "    plt.show()\n",
    "    \n",
    "    possible_thresholds = np.linspace(0, 1, num=20)\n",
    "    df_metrics = pd.DataFrame()\n",
    "    for threshold in possible_thresholds:\n",
    "        y_pred = (model.predict(X) > threshold).astype(\"int32\")\n",
    "        df_metrics = df_metrics.append({\n",
    "            'threshold': threshold,\n",
    "            'accuracy': accuracy_score(y, y_pred),\n",
    "            'f1_score': f1_score(y, y_pred)\n",
    "        }, ignore_index=True)\n",
    "        \n",
    "    sns.lineplot(data=df_metrics.set_index('threshold'), palette=\"tab10\", linewidth=2.5)\n",
    "    \n",
    "    return df_metrics"
   ]
  },
  {
   "cell_type": "code",
   "execution_count": 42,
   "id": "44ad7e5e",
   "metadata": {},
   "outputs": [
    {
     "name": "stdout",
     "output_type": "stream",
     "text": [
      "Accuracy: 0.7503703703703704\n",
      "f1 score: 0.7579022988505747\n"
     ]
    },
    {
     "data": {
      "text/plain": [
       "array([[ 971,  529],\n",
       "       [ 145, 1055]], dtype=int64)"
      ]
     },
     "execution_count": 42,
     "metadata": {},
     "output_type": "execute_result"
    }
   ],
   "source": [
    "y_pred = (model.predict(X_test) > 0.2).astype(\"int32\")\n",
    "print(f'Accuracy: {accuracy_score(y_test, y_pred)}')\n",
    "print(f'f1 score: {f1_score(y_test, y_pred)}')\n",
    "confusion_matrix(y_test, y_pred)"
   ]
  },
  {
   "cell_type": "code",
   "execution_count": 40,
   "id": "ff63a064",
   "metadata": {},
   "outputs": [
    {
     "data": {
      "image/png": "[encoded data removed]",
      "text/plain": [
       "<Figure size 432x288 with 1 Axes>"
      ]
     },
     "metadata": {
      "needs_background": "light"
     },
     "output_type": "display_data"
    },
    {
     "data": {
      "image/png": "[encoded data removed]",
      "text/plain": [
       "<Figure size 432x288 with 1 Axes>"
      ]
     },
     "metadata": {
      "needs_background": "light"
     },
     "output_type": "display_data"
    }
   ],
   "source": [
    "df_metrics = test_thresholds(X_test, y_test)"
   ]
  },
  {
   "cell_type": "code",
   "execution_count": 41,
   "id": "abe1c226",
   "metadata": {},
   "outputs": [
    {
     "data": {
      "text/html": [
       "<div>\n",
       "<style scoped>\n",
       "    .dataframe tbody tr th:only-of-type {\n",
       "        vertical-align: middle;\n",
       "    }\n",
       "\n",
       "    .dataframe tbody tr th {\n",
       "        vertical-align: top;\n",
       "    }\n",
       "\n",
       "    .dataframe thead th {\n",
       "        text-align: right;\n",
       "    }\n",
       "</style>\n",
       "<table border=\"1\" class=\"dataframe\">\n",
       "  <thead>\n",
       "    <tr style=\"text-align: right;\">\n",
       "      <th></th>\n",
       "      <th>accuracy</th>\n",
       "      <th>f1_score</th>\n",
       "      <th>threshold</th>\n",
       "    </tr>\n",
       "  </thead>\n",
       "  <tbody>\n",
       "    <tr>\n",
       "      <th>12</th>\n",
       "      <td>0.812593</td>\n",
       "      <td>0.777485</td>\n",
       "      <td>0.631579</td>\n",
       "    </tr>\n",
       "    <tr>\n",
       "      <th>11</th>\n",
       "      <td>0.811111</td>\n",
       "      <td>0.780739</td>\n",
       "      <td>0.578947</td>\n",
       "    </tr>\n",
       "    <tr>\n",
       "      <th>13</th>\n",
       "      <td>0.810741</td>\n",
       "      <td>0.768464</td>\n",
       "      <td>0.684211</td>\n",
       "    </tr>\n",
       "    <tr>\n",
       "      <th>10</th>\n",
       "      <td>0.807778</td>\n",
       "      <td>0.782024</td>\n",
       "      <td>0.526316</td>\n",
       "    </tr>\n",
       "    <tr>\n",
       "      <th>9</th>\n",
       "      <td>0.804815</td>\n",
       "      <td>0.782859</td>\n",
       "      <td>0.473684</td>\n",
       "    </tr>\n",
       "    <tr>\n",
       "      <th>14</th>\n",
       "      <td>0.803704</td>\n",
       "      <td>0.751873</td>\n",
       "      <td>0.736842</td>\n",
       "    </tr>\n",
       "    <tr>\n",
       "      <th>15</th>\n",
       "      <td>0.800370</td>\n",
       "      <td>0.740491</td>\n",
       "      <td>0.789474</td>\n",
       "    </tr>\n",
       "    <tr>\n",
       "      <th>8</th>\n",
       "      <td>0.799630</td>\n",
       "      <td>0.781767</td>\n",
       "      <td>0.421053</td>\n",
       "    </tr>\n",
       "    <tr>\n",
       "      <th>7</th>\n",
       "      <td>0.798519</td>\n",
       "      <td>0.784980</td>\n",
       "      <td>0.368421</td>\n",
       "    </tr>\n",
       "    <tr>\n",
       "      <th>16</th>\n",
       "      <td>0.792222</td>\n",
       "      <td>0.721034</td>\n",
       "      <td>0.842105</td>\n",
       "    </tr>\n",
       "    <tr>\n",
       "      <th>6</th>\n",
       "      <td>0.783704</td>\n",
       "      <td>0.775212</td>\n",
       "      <td>0.315789</td>\n",
       "    </tr>\n",
       "    <tr>\n",
       "      <th>17</th>\n",
       "      <td>0.780370</td>\n",
       "      <td>0.694172</td>\n",
       "      <td>0.894737</td>\n",
       "    </tr>\n",
       "    <tr>\n",
       "      <th>5</th>\n",
       "      <td>0.775556</td>\n",
       "      <td>0.773543</td>\n",
       "      <td>0.263158</td>\n",
       "    </tr>\n",
       "    <tr>\n",
       "      <th>4</th>\n",
       "      <td>0.755556</td>\n",
       "      <td>0.760870</td>\n",
       "      <td>0.210526</td>\n",
       "    </tr>\n",
       "    <tr>\n",
       "      <th>18</th>\n",
       "      <td>0.754444</td>\n",
       "      <td>0.637507</td>\n",
       "      <td>0.947368</td>\n",
       "    </tr>\n",
       "    <tr>\n",
       "      <th>3</th>\n",
       "      <td>0.737037</td>\n",
       "      <td>0.751226</td>\n",
       "      <td>0.157895</td>\n",
       "    </tr>\n",
       "    <tr>\n",
       "      <th>2</th>\n",
       "      <td>0.695185</td>\n",
       "      <td>0.727574</td>\n",
       "      <td>0.105263</td>\n",
       "    </tr>\n",
       "    <tr>\n",
       "      <th>1</th>\n",
       "      <td>0.633704</td>\n",
       "      <td>0.698200</td>\n",
       "      <td>0.052632</td>\n",
       "    </tr>\n",
       "    <tr>\n",
       "      <th>19</th>\n",
       "      <td>0.555556</td>\n",
       "      <td>0.000000</td>\n",
       "      <td>1.000000</td>\n",
       "    </tr>\n",
       "    <tr>\n",
       "      <th>0</th>\n",
       "      <td>0.444444</td>\n",
       "      <td>0.615385</td>\n",
       "      <td>0.000000</td>\n",
       "    </tr>\n",
       "  </tbody>\n",
       "</table>\n",
       "</div>"
      ],
      "text/plain": [
       "    accuracy  f1_score  threshold\n",
       "12  0.812593  0.777485   0.631579\n",
       "11  0.811111  0.780739   0.578947\n",
       "13  0.810741  0.768464   0.684211\n",
       "10  0.807778  0.782024   0.526316\n",
       "9   0.804815  0.782859   0.473684\n",
       "14  0.803704  0.751873   0.736842\n",
       "15  0.800370  0.740491   0.789474\n",
       "8   0.799630  0.781767   0.421053\n",
       "7   0.798519  0.784980   0.368421\n",
       "16  0.792222  0.721034   0.842105\n",
       "6   0.783704  0.775212   0.315789\n",
       "17  0.780370  0.694172   0.894737\n",
       "5   0.775556  0.773543   0.263158\n",
       "4   0.755556  0.760870   0.210526\n",
       "18  0.754444  0.637507   0.947368\n",
       "3   0.737037  0.751226   0.157895\n",
       "2   0.695185  0.727574   0.105263\n",
       "1   0.633704  0.698200   0.052632\n",
       "19  0.555556  0.000000   1.000000\n",
       "0   0.444444  0.615385   0.000000"
      ]
     },
     "execution_count": 41,
     "metadata": {},
     "output_type": "execute_result"
    }
   ],
   "source": [
    "df_metrics.sort_values('accuracy', ascending=False)"
   ]
  },
  {
   "cell_type": "code",
   "execution_count": null,
   "id": "04886e49",
   "metadata": {},
   "outputs": [],
   "source": []
  }
 ],
 "metadata": {
  "kernelspec": {
   "display_name": "Python 3 (ipykernel)",
   "language": "python",
   "name": "python3"
  },
  "language_info": {
   "codemirror_mode": {
    "name": "ipython",
    "version": 3
   },
   "file_extension": ".py",
   "mimetype": "text/x-python",
   "name": "python",
   "nbconvert_exporter": "python",
   "pygments_lexer": "ipython3",
   "version": "3.8.12"
  }
 },
 "nbformat": 4,
 "nbformat_minor": 5
}
